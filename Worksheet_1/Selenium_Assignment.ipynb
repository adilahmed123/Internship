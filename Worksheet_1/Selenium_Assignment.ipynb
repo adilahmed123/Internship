{
 "cells": [
  {
   "cell_type": "code",
   "execution_count": null,
   "id": "0efc8498",
   "metadata": {
    "scrolled": true
   },
   "outputs": [],
   "source": [
    "!pip install selenium"
   ]
  },
  {
   "cell_type": "code",
   "execution_count": null,
   "id": "1bdb32b2",
   "metadata": {
    "scrolled": true
   },
   "outputs": [],
   "source": [
    "import selenium\n",
    "import pandas as pd\n",
    "import numpy as np\n",
    "from selenium import webdriver"
   ]
  },
  {
   "cell_type": "code",
   "execution_count": null,
   "id": "759a8963",
   "metadata": {
    "scrolled": true
   },
   "outputs": [],
   "source": [
    "driver = webdriver.Chrome(r\"C:\\\\Users\\\\adil2\\\\Downloads\\\\chromedriver_win32\\\\chromedriver.exe\")"
   ]
  },
  {
   "cell_type": "code",
   "execution_count": null,
   "id": "69b04256",
   "metadata": {
    "scrolled": true
   },
   "outputs": [],
   "source": [
    "# 1) programme programme to scrape the Data Analyst job position from Naukri.com"
   ]
  },
  {
   "cell_type": "code",
   "execution_count": null,
   "id": "e9250ad3",
   "metadata": {
    "scrolled": true
   },
   "outputs": [],
   "source": [
    "driver.get('https://www.naukri.com/')"
   ]
  },
  {
   "cell_type": "code",
   "execution_count": null,
   "id": "78673a57",
   "metadata": {
    "scrolled": true
   },
   "outputs": [],
   "source": [
    "sj = driver.find_element_by_id('qsb-keyword-sugg')\n",
    "sj.send_keys('Data Analyst')\n",
    "jl = driver.find_element_by_xpath('//input[@id = \"qsb-location-sugg\"]')\n",
    "jl.send_keys('Banglore')"
   ]
  },
  {
   "cell_type": "code",
   "execution_count": null,
   "id": "02f1f448",
   "metadata": {
    "scrolled": true
   },
   "outputs": [],
   "source": [
    "sb = driver.find_element_by_xpath('//button[@class = \"btn\"]')\n",
    "sb.click()"
   ]
  },
  {
   "cell_type": "code",
   "execution_count": null,
   "id": "6b6d28bc",
   "metadata": {
    "scrolled": true
   },
   "outputs": [],
   "source": [
    "url = 'https://www.naukri.com/data-analyst-data-analyst-jobs-in-banglore?k=data%20analyst%2C%20data%20analyst&l=banglore'"
   ]
  },
  {
   "cell_type": "code",
   "execution_count": 13,
   "id": "b0bedb38",
   "metadata": {
    "scrolled": true
   },
   "outputs": [],
   "source": [
    "driver.get(url)"
   ]
  },
  {
   "cell_type": "code",
   "execution_count": 14,
   "id": "a700f10d",
   "metadata": {
    "scrolled": true
   },
   "outputs": [],
   "source": [
    "Jt = []\n",
    "Jl = []\n",
    "cn = []\n",
    "ex = []"
   ]
  },
  {
   "cell_type": "code",
   "execution_count": 15,
   "id": "d4306912",
   "metadata": {
    "scrolled": false
   },
   "outputs": [
    {
     "name": "stderr",
     "output_type": "stream",
     "text": [
      "<ipython-input-15-4109923f78b6>:1: DeprecationWarning: find_elements_by_* commands are deprecated. Please use find_elements() instead\n",
      "  jt1 = driver.find_elements_by_xpath('//a[@class =\"title fw500 ellipsis\"]')\n"
     ]
    },
    {
     "data": {
      "text/plain": [
       "['Hiring -Data Analyst, Business Analyst, MIS Analyst -3rd Party Payroll',\n",
       " 'Data Analyst / Engineer',\n",
       " 'Lead - Data Analyst - Leading US MNC',\n",
       " 'Senior Data Analyst',\n",
       " 'Data Analyst I - Analytics Reporting',\n",
       " 'Data Analyst',\n",
       " 'Data Quality Analyst',\n",
       " 'Looking For Data Analyst For Oneindia, Bangalore',\n",
       " 'Marketing Data Analyst',\n",
       " 'Analyst / Sr Analyst Data Quality Automation']"
      ]
     },
     "execution_count": 15,
     "metadata": {},
     "output_type": "execute_result"
    }
   ],
   "source": [
    "jt1 = driver.find_elements_by_xpath('//a[@class =\"title fw500 ellipsis\"]')\n",
    "for data in jt1:\n",
    "    jt2 =data.text\n",
    "    Jt.append(jt2)\n",
    "Jt[0:10]"
   ]
  },
  {
   "cell_type": "code",
   "execution_count": 17,
   "id": "0fd3984c",
   "metadata": {
    "scrolled": true
   },
   "outputs": [
    {
     "name": "stderr",
     "output_type": "stream",
     "text": [
      "<ipython-input-17-c2be71d930b3>:1: DeprecationWarning: find_elements_by_* commands are deprecated. Please use find_elements() instead\n",
      "  jl1 = driver.find_elements_by_xpath('//li[@class = \"fleft grey-text br2 placeHolderLi location\"]')\n"
     ]
    },
    {
     "data": {
      "text/plain": [
       "['Bangalore/Bengaluru',\n",
       " 'Chennai, Bangalore/Bengaluru',\n",
       " 'Mumbai, Gurgaon/Gurugram, Bangalore/Bengaluru',\n",
       " 'Bangalore/Bengaluru',\n",
       " 'Bangalore/Bengaluru',\n",
       " 'Bangalore/Bengaluru',\n",
       " 'Bangalore/Bengaluru',\n",
       " 'Bangalore/Bengaluru',\n",
       " 'Bangalore/Bengaluru',\n",
       " 'Hyderabad/Secunderabad, Pune, Bangalore/Bengaluru, Mumbai (All Areas)']"
      ]
     },
     "execution_count": 17,
     "metadata": {},
     "output_type": "execute_result"
    }
   ],
   "source": [
    "jl1 = driver.find_elements_by_xpath('//li[@class = \"fleft grey-text br2 placeHolderLi location\"]')\n",
    "for data in jl1:\n",
    "    jl2 = data.text\n",
    "    Jl.append(jl2)\n",
    "Jl[0:10]"
   ]
  },
  {
   "cell_type": "code",
   "execution_count": 18,
   "id": "dbab858e",
   "metadata": {
    "scrolled": true
   },
   "outputs": [
    {
     "name": "stderr",
     "output_type": "stream",
     "text": [
      "<ipython-input-18-026a8066377f>:1: DeprecationWarning: find_elements_by_* commands are deprecated. Please use find_elements() instead\n",
      "  cn1 = driver.find_elements_by_xpath('//a[@class = \"subTitle ellipsis fleft\"]')\n"
     ]
    },
    {
     "data": {
      "text/plain": [
       "['Flipkart',\n",
       " 'Animaker India Private Limited',\n",
       " 'EVOLVE TECHNOLOGIES AND SERVICES PRIVATE LIMITED',\n",
       " 'Flipkart',\n",
       " 'SKILL-LYNC',\n",
       " 'HackerEarth',\n",
       " 'Twilio',\n",
       " 'Greynium Information Technologies',\n",
       " 'Qliktech',\n",
       " 'EVERSANA INDIA PRIVATE LIMITED']"
      ]
     },
     "execution_count": 18,
     "metadata": {},
     "output_type": "execute_result"
    }
   ],
   "source": [
    "cn1 = driver.find_elements_by_xpath('//a[@class = \"subTitle ellipsis fleft\"]')\n",
    "for data in cn1:\n",
    "    cn2 = data.text\n",
    "    cn.append(cn2)\n",
    "cn[0:10]"
   ]
  },
  {
   "cell_type": "code",
   "execution_count": 19,
   "id": "50cda262",
   "metadata": {
    "scrolled": true
   },
   "outputs": [
    {
     "name": "stderr",
     "output_type": "stream",
     "text": [
      "<ipython-input-19-7ef244f79de6>:1: DeprecationWarning: find_elements_by_* commands are deprecated. Please use find_elements() instead\n",
      "  ex1 = driver.find_elements_by_xpath('//li[@class = \"fleft grey-text br2 placeHolderLi experience\"]')\n"
     ]
    },
    {
     "data": {
      "text/plain": [
       "['1-6 Yrs',\n",
       " '4-9 Yrs',\n",
       " '6-11 Yrs',\n",
       " '3-7 Yrs',\n",
       " '1-5 Yrs',\n",
       " '1-3 Yrs',\n",
       " '3-8 Yrs',\n",
       " '4-8 Yrs',\n",
       " '2-7 Yrs',\n",
       " '1-3 Yrs']"
      ]
     },
     "execution_count": 19,
     "metadata": {},
     "output_type": "execute_result"
    }
   ],
   "source": [
    "ex1 = driver.find_elements_by_xpath('//li[@class = \"fleft grey-text br2 placeHolderLi experience\"]')\n",
    "for data in ex1:\n",
    "    ex2 = data.text\n",
    "    ex.append(ex2)\n",
    "ex[0:10]"
   ]
  },
  {
   "cell_type": "code",
   "execution_count": 20,
   "id": "17f9f45c",
   "metadata": {
    "scrolled": true
   },
   "outputs": [
    {
     "data": {
      "text/html": [
       "<div>\n",
       "<style scoped>\n",
       "    .dataframe tbody tr th:only-of-type {\n",
       "        vertical-align: middle;\n",
       "    }\n",
       "\n",
       "    .dataframe tbody tr th {\n",
       "        vertical-align: top;\n",
       "    }\n",
       "\n",
       "    .dataframe thead th {\n",
       "        text-align: right;\n",
       "    }\n",
       "</style>\n",
       "<table border=\"1\" class=\"dataframe\">\n",
       "  <thead>\n",
       "    <tr style=\"text-align: right;\">\n",
       "      <th></th>\n",
       "      <th>Job_title</th>\n",
       "      <th>Job_Location</th>\n",
       "      <th>Company_Name</th>\n",
       "      <th>Experience</th>\n",
       "    </tr>\n",
       "  </thead>\n",
       "  <tbody>\n",
       "    <tr>\n",
       "      <th>0</th>\n",
       "      <td>Hiring -Data Analyst, Business Analyst, MIS An...</td>\n",
       "      <td>Bangalore/Bengaluru</td>\n",
       "      <td>Flipkart</td>\n",
       "      <td>1-6 Yrs</td>\n",
       "    </tr>\n",
       "    <tr>\n",
       "      <th>1</th>\n",
       "      <td>Data Analyst / Engineer</td>\n",
       "      <td>Chennai, Bangalore/Bengaluru</td>\n",
       "      <td>Animaker India Private Limited</td>\n",
       "      <td>4-9 Yrs</td>\n",
       "    </tr>\n",
       "    <tr>\n",
       "      <th>2</th>\n",
       "      <td>Lead - Data Analyst - Leading US MNC</td>\n",
       "      <td>Mumbai, Gurgaon/Gurugram, Bangalore/Bengaluru</td>\n",
       "      <td>EVOLVE TECHNOLOGIES AND SERVICES PRIVATE LIMITED</td>\n",
       "      <td>6-11 Yrs</td>\n",
       "    </tr>\n",
       "    <tr>\n",
       "      <th>3</th>\n",
       "      <td>Senior Data Analyst</td>\n",
       "      <td>Bangalore/Bengaluru</td>\n",
       "      <td>Flipkart</td>\n",
       "      <td>3-7 Yrs</td>\n",
       "    </tr>\n",
       "    <tr>\n",
       "      <th>4</th>\n",
       "      <td>Data Analyst I - Analytics Reporting</td>\n",
       "      <td>Bangalore/Bengaluru</td>\n",
       "      <td>SKILL-LYNC</td>\n",
       "      <td>1-5 Yrs</td>\n",
       "    </tr>\n",
       "    <tr>\n",
       "      <th>5</th>\n",
       "      <td>Data Analyst</td>\n",
       "      <td>Bangalore/Bengaluru</td>\n",
       "      <td>HackerEarth</td>\n",
       "      <td>1-3 Yrs</td>\n",
       "    </tr>\n",
       "    <tr>\n",
       "      <th>6</th>\n",
       "      <td>Data Quality Analyst</td>\n",
       "      <td>Bangalore/Bengaluru</td>\n",
       "      <td>Twilio</td>\n",
       "      <td>3-8 Yrs</td>\n",
       "    </tr>\n",
       "    <tr>\n",
       "      <th>7</th>\n",
       "      <td>Looking For Data Analyst For Oneindia, Bangalore</td>\n",
       "      <td>Bangalore/Bengaluru</td>\n",
       "      <td>Greynium Information Technologies</td>\n",
       "      <td>4-8 Yrs</td>\n",
       "    </tr>\n",
       "    <tr>\n",
       "      <th>8</th>\n",
       "      <td>Marketing Data Analyst</td>\n",
       "      <td>Bangalore/Bengaluru</td>\n",
       "      <td>Qliktech</td>\n",
       "      <td>2-7 Yrs</td>\n",
       "    </tr>\n",
       "    <tr>\n",
       "      <th>9</th>\n",
       "      <td>Analyst / Sr Analyst Data Quality Automation</td>\n",
       "      <td>Hyderabad/Secunderabad, Pune, Bangalore/Bengal...</td>\n",
       "      <td>EVERSANA INDIA PRIVATE LIMITED</td>\n",
       "      <td>1-3 Yrs</td>\n",
       "    </tr>\n",
       "  </tbody>\n",
       "</table>\n",
       "</div>"
      ],
      "text/plain": [
       "                                           Job_title  \\\n",
       "0  Hiring -Data Analyst, Business Analyst, MIS An...   \n",
       "1                            Data Analyst / Engineer   \n",
       "2               Lead - Data Analyst - Leading US MNC   \n",
       "3                                Senior Data Analyst   \n",
       "4               Data Analyst I - Analytics Reporting   \n",
       "5                                       Data Analyst   \n",
       "6                               Data Quality Analyst   \n",
       "7   Looking For Data Analyst For Oneindia, Bangalore   \n",
       "8                             Marketing Data Analyst   \n",
       "9       Analyst / Sr Analyst Data Quality Automation   \n",
       "\n",
       "                                        Job_Location  \\\n",
       "0                                Bangalore/Bengaluru   \n",
       "1                       Chennai, Bangalore/Bengaluru   \n",
       "2      Mumbai, Gurgaon/Gurugram, Bangalore/Bengaluru   \n",
       "3                                Bangalore/Bengaluru   \n",
       "4                                Bangalore/Bengaluru   \n",
       "5                                Bangalore/Bengaluru   \n",
       "6                                Bangalore/Bengaluru   \n",
       "7                                Bangalore/Bengaluru   \n",
       "8                                Bangalore/Bengaluru   \n",
       "9  Hyderabad/Secunderabad, Pune, Bangalore/Bengal...   \n",
       "\n",
       "                                       Company_Name Experience  \n",
       "0                                          Flipkart    1-6 Yrs  \n",
       "1                    Animaker India Private Limited    4-9 Yrs  \n",
       "2  EVOLVE TECHNOLOGIES AND SERVICES PRIVATE LIMITED   6-11 Yrs  \n",
       "3                                          Flipkart    3-7 Yrs  \n",
       "4                                        SKILL-LYNC    1-5 Yrs  \n",
       "5                                       HackerEarth    1-3 Yrs  \n",
       "6                                            Twilio    3-8 Yrs  \n",
       "7                 Greynium Information Technologies    4-8 Yrs  \n",
       "8                                          Qliktech    2-7 Yrs  \n",
       "9                    EVERSANA INDIA PRIVATE LIMITED    1-3 Yrs  "
      ]
     },
     "execution_count": 20,
     "metadata": {},
     "output_type": "execute_result"
    }
   ],
   "source": [
    "df = pd.DataFrame({'Job_title' : Jt[0:10], 'Job_Location' : Jl[0:10] , 'Company_Name' : cn[0:10] , 'Experience' : ex[0:10]})\n",
    "df"
   ]
  },
  {
   "cell_type": "code",
   "execution_count": null,
   "id": "c027f54b",
   "metadata": {
    "scrolled": true
   },
   "outputs": [],
   "source": [
    "# 2) programme programme to scrape the Data scientist job position from Naukri.com"
   ]
  },
  {
   "cell_type": "code",
   "execution_count": 21,
   "id": "57ea42b1",
   "metadata": {
    "scrolled": true
   },
   "outputs": [
    {
     "name": "stderr",
     "output_type": "stream",
     "text": [
      "<ipython-input-21-2e5b3dc4a2f5>:1: DeprecationWarning: executable_path has been deprecated, please pass in a Service object\n",
      "  driver = webdriver.Chrome(r\"C:\\\\Users\\\\adil2\\\\Downloads\\\\chromedriver_win32\\\\chromedriver.exe\")\n"
     ]
    }
   ],
   "source": [
    "driver = webdriver.Chrome(r\"C:\\\\Users\\\\adil2\\\\Downloads\\\\chromedriver_win32\\\\chromedriver.exe\")"
   ]
  },
  {
   "cell_type": "code",
   "execution_count": 22,
   "id": "ddadfdbe",
   "metadata": {
    "scrolled": true
   },
   "outputs": [],
   "source": [
    "driver.get('https://www.naukri.com/')"
   ]
  },
  {
   "cell_type": "code",
   "execution_count": 23,
   "id": "a70c14fe",
   "metadata": {
    "scrolled": true
   },
   "outputs": [
    {
     "name": "stderr",
     "output_type": "stream",
     "text": [
      "<ipython-input-23-f27f572baa41>:1: DeprecationWarning: find_element_by_* commands are deprecated. Please use find_element() instead\n",
      "  sj = driver.find_element_by_id('qsb-keyword-sugg')\n",
      "<ipython-input-23-f27f572baa41>:3: DeprecationWarning: find_element_by_* commands are deprecated. Please use find_element() instead\n",
      "  jl = driver.find_element_by_xpath('//input[@id = \"qsb-location-sugg\"]')\n"
     ]
    }
   ],
   "source": [
    "sj = driver.find_element_by_id('qsb-keyword-sugg')\n",
    "sj.send_keys('Data scientist')\n",
    "jl = driver.find_element_by_xpath('//input[@id = \"qsb-location-sugg\"]')\n",
    "jl.send_keys('Banglore')"
   ]
  },
  {
   "cell_type": "code",
   "execution_count": 24,
   "id": "c3da9281",
   "metadata": {
    "scrolled": true
   },
   "outputs": [
    {
     "name": "stderr",
     "output_type": "stream",
     "text": [
      "<ipython-input-24-07fee46c6672>:1: DeprecationWarning: find_element_by_* commands are deprecated. Please use find_element() instead\n",
      "  sb = driver.find_element_by_xpath('//button[@class = \"btn\"]')\n"
     ]
    }
   ],
   "source": [
    "sb = driver.find_element_by_xpath('//button[@class = \"btn\"]')\n",
    "sb.click()"
   ]
  },
  {
   "cell_type": "code",
   "execution_count": 25,
   "id": "1811c225",
   "metadata": {
    "scrolled": true
   },
   "outputs": [],
   "source": [
    "url = 'https://www.naukri.com/data-scientist-jobs-in-banglore?k=data%20scientist&l=banglore'"
   ]
  },
  {
   "cell_type": "code",
   "execution_count": 26,
   "id": "c342f44f",
   "metadata": {
    "scrolled": true
   },
   "outputs": [],
   "source": [
    "driver.get(url)"
   ]
  },
  {
   "cell_type": "code",
   "execution_count": 28,
   "id": "b3d97239",
   "metadata": {
    "scrolled": true
   },
   "outputs": [],
   "source": [
    "j_t = []\n",
    "j_l = []\n",
    "c_n = []"
   ]
  },
  {
   "cell_type": "code",
   "execution_count": 29,
   "id": "f1179e0e",
   "metadata": {
    "scrolled": true
   },
   "outputs": [
    {
     "name": "stderr",
     "output_type": "stream",
     "text": [
      "<ipython-input-29-adf687b53294>:1: DeprecationWarning: find_elements_by_* commands are deprecated. Please use find_elements() instead\n",
      "  titles = driver.find_elements_by_xpath('//a[@class = \"title fw500 ellipsis\"]')\n"
     ]
    },
    {
     "data": {
      "text/plain": [
       "['Lead / Principal Data Scientist',\n",
       " 'Data Scientist: Advanced Analytics',\n",
       " 'Immediate hiring For Senior Data Scientist - AI',\n",
       " 'Senior Data Scientist',\n",
       " 'Lead/Senior Data Scientist (NLP)',\n",
       " 'Data Scientist',\n",
       " 'Job Opportunities For AI/ML Data Scientists - Cyient Ltd',\n",
       " 'Data Scientist',\n",
       " 'Sr. Associate Consultant Data Scientist',\n",
       " 'Senior Engineer - AIML - Data Scientist']"
      ]
     },
     "execution_count": 29,
     "metadata": {},
     "output_type": "execute_result"
    }
   ],
   "source": [
    "titles = driver.find_elements_by_xpath('//a[@class = \"title fw500 ellipsis\"]')\n",
    "for data in titles:\n",
    "    tit = data.text\n",
    "    j_t.append(tit)\n",
    "j_t[0:10]"
   ]
  },
  {
   "cell_type": "code",
   "execution_count": 30,
   "id": "a5944f58",
   "metadata": {
    "scrolled": true
   },
   "outputs": [
    {
     "name": "stderr",
     "output_type": "stream",
     "text": [
      "<ipython-input-30-045b7283e949>:1: DeprecationWarning: find_elements_by_* commands are deprecated. Please use find_elements() instead\n",
      "  loc = driver.find_elements_by_xpath('//li[@class = \"fleft grey-text br2 placeHolderLi location\"]')\n"
     ]
    },
    {
     "data": {
      "text/plain": [
       "['Mumbai, Hyderabad/Secunderabad, Pune, Delhi / NCR, Bangalore/Bengaluru',\n",
       " 'Bangalore/Bengaluru',\n",
       " 'Hyderabad/Secunderabad, Chennai, Bangalore/Bengaluru',\n",
       " 'Bangalore/Bengaluru',\n",
       " 'Bangalore/Bengaluru\\n(WFH during Covid)',\n",
       " 'Bangalore/Bengaluru',\n",
       " 'Hyderabad/Secunderabad, Bangalore/Bengaluru',\n",
       " 'Bangalore/Bengaluru',\n",
       " 'Bangalore/Bengaluru',\n",
       " 'Bangalore/Bengaluru']"
      ]
     },
     "execution_count": 30,
     "metadata": {},
     "output_type": "execute_result"
    }
   ],
   "source": [
    "loc = driver.find_elements_by_xpath('//li[@class = \"fleft grey-text br2 placeHolderLi location\"]')\n",
    "for data in loc:\n",
    "    l = data.text\n",
    "    j_l.append(l)\n",
    "j_l[0:10]"
   ]
  },
  {
   "cell_type": "code",
   "execution_count": 31,
   "id": "5ae3f453",
   "metadata": {
    "scrolled": true
   },
   "outputs": [
    {
     "name": "stderr",
     "output_type": "stream",
     "text": [
      "<ipython-input-31-f16a19101e3c>:1: DeprecationWarning: find_elements_by_* commands are deprecated. Please use find_elements() instead\n",
      "  com = driver.find_elements_by_xpath('//a[@class = \"subTitle ellipsis fleft\"]')\n"
     ]
    },
    {
     "data": {
      "text/plain": [
       "['Aviso Inc',\n",
       " 'IBM India Pvt. Limited',\n",
       " 'MerchantRMS (A Unitof WINTLT TECHNOLOGIES PVT LTD)',\n",
       " 'Visa',\n",
       " 'Samya.AI A FRACTAL Entity',\n",
       " 'Hinduja Global Solutions Limited',\n",
       " 'Cyient',\n",
       " 'Snaphunt',\n",
       " 'Eli Lilly and Company',\n",
       " 'Unisys']"
      ]
     },
     "execution_count": 31,
     "metadata": {},
     "output_type": "execute_result"
    }
   ],
   "source": [
    "com = driver.find_elements_by_xpath('//a[@class = \"subTitle ellipsis fleft\"]')\n",
    "for data in com:\n",
    "    c = data.text\n",
    "    c_n.append(c)\n",
    "c_n[0:10]    "
   ]
  },
  {
   "cell_type": "code",
   "execution_count": 32,
   "id": "ad726025",
   "metadata": {
    "scrolled": true
   },
   "outputs": [
    {
     "data": {
      "text/html": [
       "<div>\n",
       "<style scoped>\n",
       "    .dataframe tbody tr th:only-of-type {\n",
       "        vertical-align: middle;\n",
       "    }\n",
       "\n",
       "    .dataframe tbody tr th {\n",
       "        vertical-align: top;\n",
       "    }\n",
       "\n",
       "    .dataframe thead th {\n",
       "        text-align: right;\n",
       "    }\n",
       "</style>\n",
       "<table border=\"1\" class=\"dataframe\">\n",
       "  <thead>\n",
       "    <tr style=\"text-align: right;\">\n",
       "      <th></th>\n",
       "      <th>Job_title</th>\n",
       "      <th>Job_Location</th>\n",
       "      <th>Company_Name</th>\n",
       "    </tr>\n",
       "  </thead>\n",
       "  <tbody>\n",
       "    <tr>\n",
       "      <th>0</th>\n",
       "      <td>Lead / Principal Data Scientist</td>\n",
       "      <td>Mumbai, Hyderabad/Secunderabad, Pune, Delhi / ...</td>\n",
       "      <td>Aviso Inc</td>\n",
       "    </tr>\n",
       "    <tr>\n",
       "      <th>1</th>\n",
       "      <td>Data Scientist: Advanced Analytics</td>\n",
       "      <td>Bangalore/Bengaluru</td>\n",
       "      <td>IBM India Pvt. Limited</td>\n",
       "    </tr>\n",
       "    <tr>\n",
       "      <th>2</th>\n",
       "      <td>Immediate hiring For Senior Data Scientist - AI</td>\n",
       "      <td>Hyderabad/Secunderabad, Chennai, Bangalore/Ben...</td>\n",
       "      <td>MerchantRMS (A Unitof WINTLT TECHNOLOGIES PVT ...</td>\n",
       "    </tr>\n",
       "    <tr>\n",
       "      <th>3</th>\n",
       "      <td>Senior Data Scientist</td>\n",
       "      <td>Bangalore/Bengaluru</td>\n",
       "      <td>Visa</td>\n",
       "    </tr>\n",
       "    <tr>\n",
       "      <th>4</th>\n",
       "      <td>Lead/Senior Data Scientist (NLP)</td>\n",
       "      <td>Bangalore/Bengaluru\\n(WFH during Covid)</td>\n",
       "      <td>Samya.AI A FRACTAL Entity</td>\n",
       "    </tr>\n",
       "    <tr>\n",
       "      <th>5</th>\n",
       "      <td>Data Scientist</td>\n",
       "      <td>Bangalore/Bengaluru</td>\n",
       "      <td>Hinduja Global Solutions Limited</td>\n",
       "    </tr>\n",
       "    <tr>\n",
       "      <th>6</th>\n",
       "      <td>Job Opportunities For AI/ML Data Scientists - ...</td>\n",
       "      <td>Hyderabad/Secunderabad, Bangalore/Bengaluru</td>\n",
       "      <td>Cyient</td>\n",
       "    </tr>\n",
       "    <tr>\n",
       "      <th>7</th>\n",
       "      <td>Data Scientist</td>\n",
       "      <td>Bangalore/Bengaluru</td>\n",
       "      <td>Snaphunt</td>\n",
       "    </tr>\n",
       "    <tr>\n",
       "      <th>8</th>\n",
       "      <td>Sr. Associate Consultant Data Scientist</td>\n",
       "      <td>Bangalore/Bengaluru</td>\n",
       "      <td>Eli Lilly and Company</td>\n",
       "    </tr>\n",
       "    <tr>\n",
       "      <th>9</th>\n",
       "      <td>Senior Engineer - AIML - Data Scientist</td>\n",
       "      <td>Bangalore/Bengaluru</td>\n",
       "      <td>Unisys</td>\n",
       "    </tr>\n",
       "  </tbody>\n",
       "</table>\n",
       "</div>"
      ],
      "text/plain": [
       "                                           Job_title  \\\n",
       "0                    Lead / Principal Data Scientist   \n",
       "1                 Data Scientist: Advanced Analytics   \n",
       "2    Immediate hiring For Senior Data Scientist - AI   \n",
       "3                              Senior Data Scientist   \n",
       "4                   Lead/Senior Data Scientist (NLP)   \n",
       "5                                     Data Scientist   \n",
       "6  Job Opportunities For AI/ML Data Scientists - ...   \n",
       "7                                     Data Scientist   \n",
       "8            Sr. Associate Consultant Data Scientist   \n",
       "9            Senior Engineer - AIML - Data Scientist   \n",
       "\n",
       "                                        Job_Location  \\\n",
       "0  Mumbai, Hyderabad/Secunderabad, Pune, Delhi / ...   \n",
       "1                                Bangalore/Bengaluru   \n",
       "2  Hyderabad/Secunderabad, Chennai, Bangalore/Ben...   \n",
       "3                                Bangalore/Bengaluru   \n",
       "4            Bangalore/Bengaluru\\n(WFH during Covid)   \n",
       "5                                Bangalore/Bengaluru   \n",
       "6        Hyderabad/Secunderabad, Bangalore/Bengaluru   \n",
       "7                                Bangalore/Bengaluru   \n",
       "8                                Bangalore/Bengaluru   \n",
       "9                                Bangalore/Bengaluru   \n",
       "\n",
       "                                        Company_Name  \n",
       "0                                          Aviso Inc  \n",
       "1                             IBM India Pvt. Limited  \n",
       "2  MerchantRMS (A Unitof WINTLT TECHNOLOGIES PVT ...  \n",
       "3                                               Visa  \n",
       "4                          Samya.AI A FRACTAL Entity  \n",
       "5                   Hinduja Global Solutions Limited  \n",
       "6                                             Cyient  \n",
       "7                                           Snaphunt  \n",
       "8                              Eli Lilly and Company  \n",
       "9                                             Unisys  "
      ]
     },
     "execution_count": 32,
     "metadata": {},
     "output_type": "execute_result"
    }
   ],
   "source": [
    "df = pd.DataFrame({'Job_title' : j_t[0:10] , 'Job_Location' : j_l[0:10] , 'Company_Name' : c_n[0:10]})\n",
    "df"
   ]
  },
  {
   "cell_type": "code",
   "execution_count": null,
   "id": "fcb8cbc1",
   "metadata": {
    "scrolled": true
   },
   "outputs": [],
   "source": [
    "# 3) programme to scrape the job titles from naukri.com with the salary 3 - 6 LPA in Delhi NCR location "
   ]
  },
  {
   "cell_type": "code",
   "execution_count": 33,
   "id": "4f5c0dca",
   "metadata": {
    "scrolled": true
   },
   "outputs": [
    {
     "name": "stderr",
     "output_type": "stream",
     "text": [
      "<ipython-input-33-2e5b3dc4a2f5>:1: DeprecationWarning: executable_path has been deprecated, please pass in a Service object\n",
      "  driver = webdriver.Chrome(r\"C:\\\\Users\\\\adil2\\\\Downloads\\\\chromedriver_win32\\\\chromedriver.exe\")\n"
     ]
    }
   ],
   "source": [
    "driver = webdriver.Chrome(r\"C:\\\\Users\\\\adil2\\\\Downloads\\\\chromedriver_win32\\\\chromedriver.exe\")"
   ]
  },
  {
   "cell_type": "code",
   "execution_count": 34,
   "id": "b1d8f379",
   "metadata": {
    "scrolled": true
   },
   "outputs": [],
   "source": [
    "driver.get('https://www.naukri.com/')"
   ]
  },
  {
   "cell_type": "code",
   "execution_count": 35,
   "id": "c237a271",
   "metadata": {
    "scrolled": true
   },
   "outputs": [
    {
     "name": "stderr",
     "output_type": "stream",
     "text": [
      "<ipython-input-35-f30bce9eea2e>:1: DeprecationWarning: find_element_by_* commands are deprecated. Please use find_element() instead\n",
      "  sj = driver.find_element_by_id('qsb-keyword-sugg')\n"
     ]
    }
   ],
   "source": [
    "sj = driver.find_element_by_id('qsb-keyword-sugg')\n",
    "sj.send_keys('Data scientist')"
   ]
  },
  {
   "cell_type": "code",
   "execution_count": 36,
   "id": "24d780b8",
   "metadata": {
    "scrolled": true
   },
   "outputs": [
    {
     "name": "stderr",
     "output_type": "stream",
     "text": [
      "<ipython-input-36-07fee46c6672>:1: DeprecationWarning: find_element_by_* commands are deprecated. Please use find_element() instead\n",
      "  sb = driver.find_element_by_xpath('//button[@class = \"btn\"]')\n"
     ]
    }
   ],
   "source": [
    "sb = driver.find_element_by_xpath('//button[@class = \"btn\"]')\n",
    "sb.click()"
   ]
  },
  {
   "cell_type": "code",
   "execution_count": null,
   "id": "2d6aab38",
   "metadata": {
    "scrolled": true
   },
   "outputs": [],
   "source": [
    "jl = driver.find_elements_by_xpath('//input[@id = \"chk-Remote-cityTypeGid-\"]')\n",
    "js = driver.find_elements_by_xpath('//i[@class = \"naukicon naukicon-arrow grey-text icon-16\"]')"
   ]
  },
  {
   "cell_type": "code",
   "execution_count": 38,
   "id": "fada27f8",
   "metadata": {
    "scrolled": true
   },
   "outputs": [],
   "source": [
    "j_title = []\n",
    "j_loc = []\n",
    "c_name = []\n",
    "exp_req = []"
   ]
  },
  {
   "cell_type": "code",
   "execution_count": 39,
   "id": "e2a44046",
   "metadata": {
    "scrolled": true
   },
   "outputs": [
    {
     "name": "stderr",
     "output_type": "stream",
     "text": [
      "<ipython-input-39-9fbe9ffd3fa4>:1: DeprecationWarning: find_elements_by_* commands are deprecated. Please use find_elements() instead\n",
      "  titl = driver.find_elements_by_xpath('//a[@class = \"title fw500 ellipsis\"]')\n"
     ]
    },
    {
     "data": {
      "text/plain": [
       "['Ethics and Compliance Business Data Scientist',\n",
       " 'Data Scientist',\n",
       " 'Data Scientist',\n",
       " 'Hiring For Data Scientist',\n",
       " 'Data Scientist/ Senior Data Scientist',\n",
       " 'Project Manager | Team Leader | Senior Data Scientist',\n",
       " 'Data Scientist',\n",
       " 'Data Analyst / Data Scientist / Business Analytics / Fresher - MNC',\n",
       " 'Data Scientist',\n",
       " 'Senior Data Scientist']"
      ]
     },
     "execution_count": 39,
     "metadata": {},
     "output_type": "execute_result"
    }
   ],
   "source": [
    "titl = driver.find_elements_by_xpath('//a[@class = \"title fw500 ellipsis\"]')\n",
    "for data in titl:\n",
    "    ti = data.text\n",
    "    j_title.append(ti)\n",
    "j_title[0:10]"
   ]
  },
  {
   "cell_type": "code",
   "execution_count": 40,
   "id": "653474ae",
   "metadata": {
    "scrolled": true
   },
   "outputs": [
    {
     "name": "stderr",
     "output_type": "stream",
     "text": [
      "<ipython-input-40-1e45ea513164>:1: DeprecationWarning: find_elements_by_* commands are deprecated. Please use find_elements() instead\n",
      "  loca = driver.find_elements_by_xpath('//li[@class = \"fleft grey-text br2 placeHolderLi location\"]')\n"
     ]
    },
    {
     "data": {
      "text/plain": [
       "['Gurgaon/Gurugram',\n",
       " 'Noida, New Delhi, Faridabad, Gurgaon/Gurugram, Delhi / NCR',\n",
       " 'Noida, Nodia\\n(WFH during Covid)',\n",
       " 'Hyderabad/Secunderabad, Pune, Chennai, Bangalore/Bengaluru, Delhi / NCR, Mumbai (All Areas)\\n(WFH during Covid)',\n",
       " 'Noida',\n",
       " 'Remote',\n",
       " 'Gurgaon/Gurugram, Chennai',\n",
       " 'Noida, Ghaziabad, Delhi / NCR',\n",
       " 'New Delhi',\n",
       " 'Delhi']"
      ]
     },
     "execution_count": 40,
     "metadata": {},
     "output_type": "execute_result"
    }
   ],
   "source": [
    "loca = driver.find_elements_by_xpath('//li[@class = \"fleft grey-text br2 placeHolderLi location\"]')\n",
    "for data in loca:\n",
    "    lo = data.text\n",
    "    j_loc.append(lo)\n",
    "j_loc[0:10]"
   ]
  },
  {
   "cell_type": "code",
   "execution_count": 41,
   "id": "f9026061",
   "metadata": {
    "scrolled": true
   },
   "outputs": [
    {
     "name": "stderr",
     "output_type": "stream",
     "text": [
      "<ipython-input-41-a4fef60503de>:1: DeprecationWarning: find_elements_by_* commands are deprecated. Please use find_elements() instead\n",
      "  comp = driver.find_elements_by_xpath('//a[@class = \"subTitle ellipsis fleft\"]')\n"
     ]
    },
    {
     "data": {
      "text/plain": [
       "['RB HOLDINGS PRIVATE LIMITED',\n",
       " 'LG Electronics India Pvt. Ltd.',\n",
       " 'Navikenz India Pvt Ltd',\n",
       " 'Tata Consultancy Services Ltd.',\n",
       " 'Newgen Software Technologies',\n",
       " 'Tidyquant (OPC) Private Limited',\n",
       " 'Teleperformance',\n",
       " 'GABA Consultancy services',\n",
       " 'The Boston Consulting Group (India) Pvt Limited',\n",
       " 'iNICU']"
      ]
     },
     "execution_count": 41,
     "metadata": {},
     "output_type": "execute_result"
    }
   ],
   "source": [
    "comp = driver.find_elements_by_xpath('//a[@class = \"subTitle ellipsis fleft\"]')\n",
    "for data in comp:\n",
    "    co = data.text\n",
    "    c_name.append(co)\n",
    "c_name[0:10]"
   ]
  },
  {
   "cell_type": "code",
   "execution_count": 42,
   "id": "d3b913a8",
   "metadata": {
    "scrolled": true
   },
   "outputs": [
    {
     "name": "stderr",
     "output_type": "stream",
     "text": [
      "<ipython-input-42-01f81b2e67e4>:1: DeprecationWarning: find_elements_by_* commands are deprecated. Please use find_elements() instead\n",
      "  ex = driver.find_elements_by_xpath('//li[@class = \"fleft grey-text br2 placeHolderLi experience\"]')\n"
     ]
    },
    {
     "data": {
      "text/plain": [
       "['2-3 Yrs',\n",
       " '0-2 Yrs',\n",
       " '2-7 Yrs',\n",
       " '4-9 Yrs',\n",
       " '2-5 Yrs',\n",
       " '1-5 Yrs',\n",
       " '4-9 Yrs',\n",
       " '0-0 Yrs',\n",
       " '2-5 Yrs',\n",
       " '1-5 Yrs']"
      ]
     },
     "execution_count": 42,
     "metadata": {},
     "output_type": "execute_result"
    }
   ],
   "source": [
    "ex = driver.find_elements_by_xpath('//li[@class = \"fleft grey-text br2 placeHolderLi experience\"]')\n",
    "for data in ex:\n",
    "    exp = data.text\n",
    "    exp_req.append(exp)\n",
    "exp_req[0:10]"
   ]
  },
  {
   "cell_type": "code",
   "execution_count": 43,
   "id": "ad112c6d",
   "metadata": {
    "scrolled": true
   },
   "outputs": [
    {
     "data": {
      "text/html": [
       "<div>\n",
       "<style scoped>\n",
       "    .dataframe tbody tr th:only-of-type {\n",
       "        vertical-align: middle;\n",
       "    }\n",
       "\n",
       "    .dataframe tbody tr th {\n",
       "        vertical-align: top;\n",
       "    }\n",
       "\n",
       "    .dataframe thead th {\n",
       "        text-align: right;\n",
       "    }\n",
       "</style>\n",
       "<table border=\"1\" class=\"dataframe\">\n",
       "  <thead>\n",
       "    <tr style=\"text-align: right;\">\n",
       "      <th></th>\n",
       "      <th>Job_Title</th>\n",
       "      <th>Job_Location</th>\n",
       "      <th>Company_Name</th>\n",
       "      <th>Experience</th>\n",
       "    </tr>\n",
       "  </thead>\n",
       "  <tbody>\n",
       "    <tr>\n",
       "      <th>0</th>\n",
       "      <td>Ethics and Compliance Business Data Scientist</td>\n",
       "      <td>Gurgaon/Gurugram</td>\n",
       "      <td>RB HOLDINGS PRIVATE LIMITED</td>\n",
       "      <td>2-3 Yrs</td>\n",
       "    </tr>\n",
       "    <tr>\n",
       "      <th>1</th>\n",
       "      <td>Data Scientist</td>\n",
       "      <td>Noida, New Delhi, Faridabad, Gurgaon/Gurugram,...</td>\n",
       "      <td>LG Electronics India Pvt. Ltd.</td>\n",
       "      <td>0-2 Yrs</td>\n",
       "    </tr>\n",
       "    <tr>\n",
       "      <th>2</th>\n",
       "      <td>Data Scientist</td>\n",
       "      <td>Noida, Nodia\\n(WFH during Covid)</td>\n",
       "      <td>Navikenz India Pvt Ltd</td>\n",
       "      <td>2-7 Yrs</td>\n",
       "    </tr>\n",
       "    <tr>\n",
       "      <th>3</th>\n",
       "      <td>Hiring For Data Scientist</td>\n",
       "      <td>Hyderabad/Secunderabad, Pune, Chennai, Bangalo...</td>\n",
       "      <td>Tata Consultancy Services Ltd.</td>\n",
       "      <td>4-9 Yrs</td>\n",
       "    </tr>\n",
       "    <tr>\n",
       "      <th>4</th>\n",
       "      <td>Data Scientist/ Senior Data Scientist</td>\n",
       "      <td>Noida</td>\n",
       "      <td>Newgen Software Technologies</td>\n",
       "      <td>2-5 Yrs</td>\n",
       "    </tr>\n",
       "    <tr>\n",
       "      <th>5</th>\n",
       "      <td>Project Manager | Team Leader | Senior Data Sc...</td>\n",
       "      <td>Remote</td>\n",
       "      <td>Tidyquant (OPC) Private Limited</td>\n",
       "      <td>1-5 Yrs</td>\n",
       "    </tr>\n",
       "    <tr>\n",
       "      <th>6</th>\n",
       "      <td>Data Scientist</td>\n",
       "      <td>Gurgaon/Gurugram, Chennai</td>\n",
       "      <td>Teleperformance</td>\n",
       "      <td>4-9 Yrs</td>\n",
       "    </tr>\n",
       "    <tr>\n",
       "      <th>7</th>\n",
       "      <td>Data Analyst / Data Scientist / Business Analy...</td>\n",
       "      <td>Noida, Ghaziabad, Delhi / NCR</td>\n",
       "      <td>GABA Consultancy services</td>\n",
       "      <td>0-0 Yrs</td>\n",
       "    </tr>\n",
       "    <tr>\n",
       "      <th>8</th>\n",
       "      <td>Data Scientist</td>\n",
       "      <td>New Delhi</td>\n",
       "      <td>The Boston Consulting Group (India) Pvt Limited</td>\n",
       "      <td>2-5 Yrs</td>\n",
       "    </tr>\n",
       "    <tr>\n",
       "      <th>9</th>\n",
       "      <td>Senior Data Scientist</td>\n",
       "      <td>Delhi</td>\n",
       "      <td>iNICU</td>\n",
       "      <td>1-5 Yrs</td>\n",
       "    </tr>\n",
       "  </tbody>\n",
       "</table>\n",
       "</div>"
      ],
      "text/plain": [
       "                                           Job_Title  \\\n",
       "0      Ethics and Compliance Business Data Scientist   \n",
       "1                                     Data Scientist   \n",
       "2                                     Data Scientist   \n",
       "3                          Hiring For Data Scientist   \n",
       "4              Data Scientist/ Senior Data Scientist   \n",
       "5  Project Manager | Team Leader | Senior Data Sc...   \n",
       "6                                     Data Scientist   \n",
       "7  Data Analyst / Data Scientist / Business Analy...   \n",
       "8                                     Data Scientist   \n",
       "9                              Senior Data Scientist   \n",
       "\n",
       "                                        Job_Location  \\\n",
       "0                                   Gurgaon/Gurugram   \n",
       "1  Noida, New Delhi, Faridabad, Gurgaon/Gurugram,...   \n",
       "2                   Noida, Nodia\\n(WFH during Covid)   \n",
       "3  Hyderabad/Secunderabad, Pune, Chennai, Bangalo...   \n",
       "4                                              Noida   \n",
       "5                                             Remote   \n",
       "6                          Gurgaon/Gurugram, Chennai   \n",
       "7                      Noida, Ghaziabad, Delhi / NCR   \n",
       "8                                          New Delhi   \n",
       "9                                              Delhi   \n",
       "\n",
       "                                      Company_Name Experience  \n",
       "0                      RB HOLDINGS PRIVATE LIMITED    2-3 Yrs  \n",
       "1                   LG Electronics India Pvt. Ltd.    0-2 Yrs  \n",
       "2                           Navikenz India Pvt Ltd    2-7 Yrs  \n",
       "3                   Tata Consultancy Services Ltd.    4-9 Yrs  \n",
       "4                     Newgen Software Technologies    2-5 Yrs  \n",
       "5                  Tidyquant (OPC) Private Limited    1-5 Yrs  \n",
       "6                                  Teleperformance    4-9 Yrs  \n",
       "7                        GABA Consultancy services    0-0 Yrs  \n",
       "8  The Boston Consulting Group (India) Pvt Limited    2-5 Yrs  \n",
       "9                                            iNICU    1-5 Yrs  "
      ]
     },
     "execution_count": 43,
     "metadata": {},
     "output_type": "execute_result"
    }
   ],
   "source": [
    "df = pd.DataFrame({'Job_Title' : j_title[0:10],'Job_Location' : j_loc[0:10], 'Company_Name' : c_name[0:10],'Experience' : exp_req[0:10]})\n",
    "df"
   ]
  },
  {
   "cell_type": "code",
   "execution_count": null,
   "id": "58c9066c",
   "metadata": {
    "scrolled": true
   },
   "outputs": [],
   "source": [
    "# 4) programme to scrape 100 sunglasess on Flipkart a) Brand b) Product description c) Price d) offers "
   ]
  },
  {
   "cell_type": "code",
   "execution_count": 44,
   "id": "f6ba353b",
   "metadata": {
    "scrolled": true
   },
   "outputs": [
    {
     "name": "stderr",
     "output_type": "stream",
     "text": [
      "<ipython-input-44-2e5b3dc4a2f5>:1: DeprecationWarning: executable_path has been deprecated, please pass in a Service object\n",
      "  driver = webdriver.Chrome(r\"C:\\\\Users\\\\adil2\\\\Downloads\\\\chromedriver_win32\\\\chromedriver.exe\")\n"
     ]
    }
   ],
   "source": [
    "driver = webdriver.Chrome(r\"C:\\\\Users\\\\adil2\\\\Downloads\\\\chromedriver_win32\\\\chromedriver.exe\")"
   ]
  },
  {
   "cell_type": "code",
   "execution_count": 46,
   "id": "0fd11454",
   "metadata": {
    "scrolled": true
   },
   "outputs": [],
   "source": [
    "driver.get('https://www.flipkart.com/')"
   ]
  },
  {
   "cell_type": "code",
   "execution_count": 47,
   "id": "ef8c22ed",
   "metadata": {
    "scrolled": false
   },
   "outputs": [],
   "source": [
    "brand = []\n",
    "pds =[]\n",
    "price =[]\n",
    "offers = []"
   ]
  },
  {
   "cell_type": "code",
   "execution_count": 49,
   "id": "315aa9cc",
   "metadata": {
    "scrolled": false
   },
   "outputs": [
    {
     "name": "stderr",
     "output_type": "stream",
     "text": [
      "<ipython-input-49-9b50c646ba7e>:1: DeprecationWarning: find_elements_by_* commands are deprecated. Please use find_elements() instead\n",
      "  br = driver.find_elements_by_xpath('//div[@class = \"_2WkVRV\"]')\n"
     ]
    },
    {
     "data": {
      "text/plain": [
       "['SRPM',\n",
       " 'Elligator',\n",
       " 'New Specs',\n",
       " 'PIRASO',\n",
       " 'PIRASO',\n",
       " 'Fastrack',\n",
       " 'kingsunglasses',\n",
       " 'New Specs',\n",
       " 'Singco India',\n",
       " 'ROYAL SON',\n",
       " 'SHAAH COLLECTIONS',\n",
       " 'kingsunglasses',\n",
       " 'SUNBEE',\n",
       " 'PIRASO',\n",
       " 'ROZZETTA CRAFT',\n",
       " 'PIRASO',\n",
       " 'ROZZETTA CRAFT',\n",
       " 'Rich Club',\n",
       " 'PIRASO',\n",
       " 'SHAAH COLLECTIONS',\n",
       " 'Rich Club',\n",
       " 'kingsunglasses',\n",
       " 'Fastrack',\n",
       " 'PHENOMENAL',\n",
       " 'hipe',\n",
       " 'ROYAL SON',\n",
       " 'Rich Club',\n",
       " 'PIRASO',\n",
       " 'PIRASO',\n",
       " 'agera',\n",
       " 'ROZZETTA CRAFT',\n",
       " 'Singco India',\n",
       " 'kingsunglasses',\n",
       " 'ROYAL SON',\n",
       " 'DEIXELS',\n",
       " 'Lee Topper',\n",
       " 'Fastrack',\n",
       " 'kingsunglasses',\n",
       " 'Fastrack',\n",
       " 'ROZZETTA CRAFT',\n",
       " 'SRPM',\n",
       " 'Elligator',\n",
       " 'New Specs',\n",
       " 'PIRASO',\n",
       " 'PIRASO',\n",
       " 'Fastrack',\n",
       " 'kingsunglasses',\n",
       " 'New Specs',\n",
       " 'Singco India',\n",
       " 'ROYAL SON',\n",
       " 'SHAAH COLLECTIONS',\n",
       " 'kingsunglasses',\n",
       " 'SUNBEE',\n",
       " 'PIRASO',\n",
       " 'ROZZETTA CRAFT',\n",
       " 'PIRASO',\n",
       " 'ROZZETTA CRAFT',\n",
       " 'Rich Club',\n",
       " 'PIRASO',\n",
       " 'SHAAH COLLECTIONS',\n",
       " 'Rich Club',\n",
       " 'kingsunglasses',\n",
       " 'Fastrack',\n",
       " 'PHENOMENAL',\n",
       " 'hipe',\n",
       " 'ROYAL SON',\n",
       " 'Rich Club',\n",
       " 'PIRASO',\n",
       " 'PIRASO',\n",
       " 'agera',\n",
       " 'ROZZETTA CRAFT',\n",
       " 'Singco India',\n",
       " 'kingsunglasses',\n",
       " 'ROYAL SON',\n",
       " 'DEIXELS',\n",
       " 'Lee Topper',\n",
       " 'Fastrack',\n",
       " 'kingsunglasses',\n",
       " 'Fastrack',\n",
       " 'ROZZETTA CRAFT']"
      ]
     },
     "execution_count": 49,
     "metadata": {},
     "output_type": "execute_result"
    }
   ],
   "source": [
    "br = driver.find_elements_by_xpath('//div[@class = \"_2WkVRV\"]')\n",
    "for data in br:\n",
    "    br1 = data.text\n",
    "    brand.append(br1)\n",
    "brand"
   ]
  },
  {
   "cell_type": "code",
   "execution_count": 50,
   "id": "0ee854e2",
   "metadata": {
    "scrolled": true
   },
   "outputs": [
    {
     "name": "stderr",
     "output_type": "stream",
     "text": [
      "<ipython-input-50-ccfaac3abd7b>:1: DeprecationWarning: find_elements_by_* commands are deprecated. Please use find_elements() instead\n",
      "  pd1 = driver.find_elements_by_xpath('//a[@class = \"IRpwTa\"]')\n"
     ]
    },
    {
     "data": {
      "text/plain": [
       "['UV Protection Wayfarer Sunglasses (56)',\n",
       " 'UV Protection Round Sunglasses (54)',\n",
       " 'UV Protection Rectangular Sunglasses (Free Size)',\n",
       " 'UV Protection Aviator Sunglasses (54)',\n",
       " 'UV Protection Aviator Sunglasses (54)',\n",
       " 'UV Protection Wayfarer Sunglasses (Free Size)',\n",
       " 'UV Protection Round Sunglasses (54)',\n",
       " 'Mirrored, UV Protection, Riding Glasses, Others Round S...',\n",
       " 'Mirrored, Riding Glasses, Others Sports Sunglasses (50)',\n",
       " 'Mirrored Aviator Sunglasses (55)',\n",
       " 'UV Protection, Polarized, Mirrored Rectangular Sunglass...',\n",
       " 'Mirrored, UV Protection Wayfarer Sunglasses (53)',\n",
       " 'UV Protection, Polarized, Mirrored Round Sunglasses (Fr...',\n",
       " 'UV Protection Wayfarer Sunglasses (32)',\n",
       " 'UV Protection, Gradient Rectangular Sunglasses (Free Si...',\n",
       " 'UV Protection Aviator Sunglasses (55)',\n",
       " 'UV Protection Retro Square Sunglasses (Free Size)',\n",
       " 'Polarized Round Sunglasses (48)',\n",
       " 'UV Protection Aviator Sunglasses (54)',\n",
       " 'UV Protection, Polarized, Mirrored Rectangular Sunglass...',\n",
       " 'Polarized Round Sunglasses (48)',\n",
       " 'UV Protection, Riding Glasses, Mirrored Wayfarer Sungla...',\n",
       " 'Gradient, UV Protection Wayfarer Sunglasses (Free Size)',\n",
       " 'UV Protection Retro Square Sunglasses (Free Size)',\n",
       " 'UV Protection Sports Sunglasses (Free Size)',\n",
       " 'UV Protection Rectangular Sunglasses (58)',\n",
       " 'UV Protection Round Sunglasses (50)',\n",
       " 'UV Protection, Polarized Aviator Sunglasses (32)',\n",
       " 'UV Protection Aviator Sunglasses (58)',\n",
       " 'Gradient Aviator Sunglasses (55)',\n",
       " 'UV Protection, Gradient Retro Square Sunglasses (Free S...',\n",
       " 'UV Protection, Riding Glasses, Others Aviator, Wayfarer...',\n",
       " 'UV Protection Rectangular Sunglasses (Free Size)',\n",
       " 'Mirrored Aviator Sunglasses (55)',\n",
       " 'UV Protection Aviator, Wayfarer Sunglasses (Free Size)',\n",
       " 'Riding Glasses, Night Vision Wrap-around Sunglasses (Fr...',\n",
       " 'UV Protection Aviator Sunglasses (Free Size)',\n",
       " 'Mirrored, UV Protection Aviator Sunglasses (56)',\n",
       " 'Polarized Retro Square Sunglasses (Free Size)',\n",
       " 'UV Protection Round Sunglasses (Free Size)']"
      ]
     },
     "execution_count": 50,
     "metadata": {},
     "output_type": "execute_result"
    }
   ],
   "source": [
    "pd1 = driver.find_elements_by_xpath('//a[@class = \"IRpwTa\"]')\n",
    "for data in pd1:\n",
    "    p1 = data.text\n",
    "    pds.append(p1)\n",
    "pds"
   ]
  },
  {
   "cell_type": "code",
   "execution_count": 55,
   "id": "cdf2a823",
   "metadata": {
    "scrolled": true
   },
   "outputs": [
    {
     "name": "stderr",
     "output_type": "stream",
     "text": [
      "<ipython-input-55-91dac22e5f44>:1: DeprecationWarning: find_elements_by_* commands are deprecated. Please use find_elements() instead\n",
      "  pr = driver.find_elements_by_xpath('//div[@class = \"_30jeq3\"]')\n"
     ]
    },
    {
     "data": {
      "text/plain": [
       "['₹188',\n",
       " '₹248',\n",
       " '₹259',\n",
       " '₹200',\n",
       " '₹187',\n",
       " '₹699',\n",
       " '₹189',\n",
       " '₹259',\n",
       " '₹194',\n",
       " '₹359',\n",
       " '₹170',\n",
       " '₹274',\n",
       " '₹271',\n",
       " '₹187',\n",
       " '₹383',\n",
       " '₹179',\n",
       " '₹474',\n",
       " '₹163',\n",
       " '₹187',\n",
       " '₹181',\n",
       " '₹175',\n",
       " '₹187',\n",
       " '₹599',\n",
       " '₹319',\n",
       " '₹287',\n",
       " '₹449',\n",
       " '₹383',\n",
       " '₹164',\n",
       " '₹299',\n",
       " '₹196',\n",
       " '₹349',\n",
       " '₹203',\n",
       " '₹192',\n",
       " '₹359',\n",
       " '₹202',\n",
       " '₹276',\n",
       " '₹649',\n",
       " '₹211',\n",
       " '₹639',\n",
       " '₹426',\n",
       " '₹188',\n",
       " '₹248',\n",
       " '₹259',\n",
       " '₹200',\n",
       " '₹187',\n",
       " '₹699',\n",
       " '₹189',\n",
       " '₹259',\n",
       " '₹194',\n",
       " '₹359',\n",
       " '₹170',\n",
       " '₹274',\n",
       " '₹271',\n",
       " '₹187',\n",
       " '₹383',\n",
       " '₹179',\n",
       " '₹474',\n",
       " '₹163',\n",
       " '₹187',\n",
       " '₹181',\n",
       " '₹175',\n",
       " '₹187',\n",
       " '₹599',\n",
       " '₹319',\n",
       " '₹287',\n",
       " '₹449',\n",
       " '₹383',\n",
       " '₹164',\n",
       " '₹299',\n",
       " '₹196',\n",
       " '₹349',\n",
       " '₹203',\n",
       " '₹192',\n",
       " '₹359',\n",
       " '₹202',\n",
       " '₹276',\n",
       " '₹649',\n",
       " '₹211',\n",
       " '₹639',\n",
       " '₹426',\n",
       " '₹188',\n",
       " '₹248',\n",
       " '₹259',\n",
       " '₹200',\n",
       " '₹187',\n",
       " '₹699',\n",
       " '₹189',\n",
       " '₹259',\n",
       " '₹194',\n",
       " '₹359',\n",
       " '₹170',\n",
       " '₹274',\n",
       " '₹271',\n",
       " '₹187',\n",
       " '₹383',\n",
       " '₹179',\n",
       " '₹474',\n",
       " '₹163',\n",
       " '₹187',\n",
       " '₹181',\n",
       " '₹175',\n",
       " '₹187',\n",
       " '₹599',\n",
       " '₹319',\n",
       " '₹287',\n",
       " '₹449',\n",
       " '₹383',\n",
       " '₹164',\n",
       " '₹299',\n",
       " '₹196',\n",
       " '₹349',\n",
       " '₹203',\n",
       " '₹192',\n",
       " '₹359',\n",
       " '₹202',\n",
       " '₹276',\n",
       " '₹649',\n",
       " '₹211',\n",
       " '₹639',\n",
       " '₹426']"
      ]
     },
     "execution_count": 55,
     "metadata": {},
     "output_type": "execute_result"
    }
   ],
   "source": [
    "pr = driver.find_elements_by_xpath('//div[@class = \"_30jeq3\"]')\n",
    "for data in pr:\n",
    "    pri = data.text\n",
    "    price.append(pri)\n",
    "price"
   ]
  },
  {
   "cell_type": "code",
   "execution_count": 54,
   "id": "8c625e25",
   "metadata": {
    "scrolled": true
   },
   "outputs": [
    {
     "name": "stderr",
     "output_type": "stream",
     "text": [
      "<ipython-input-54-5aeb90246348>:1: DeprecationWarning: find_elements_by_* commands are deprecated. Please use find_elements() instead\n",
      "  off = driver.find_elements_by_xpath('//div[@class = \"_3Ay6Sb\"]')\n"
     ]
    },
    {
     "data": {
      "text/plain": [
       "['85% off',\n",
       " '90% off',\n",
       " '87% off',\n",
       " '87% off',\n",
       " '88% off',\n",
       " '22% off',\n",
       " '82% off',\n",
       " '81% off',\n",
       " '87% off',\n",
       " '76% off',\n",
       " '89% off',\n",
       " '86% off',\n",
       " '84% off',\n",
       " '88% off',\n",
       " '80% off',\n",
       " '88% off',\n",
       " '78% off',\n",
       " '67% off',\n",
       " '88% off',\n",
       " '81% off',\n",
       " '64% off',\n",
       " '84% off',\n",
       " '25% off',\n",
       " '84% off',\n",
       " '84% off',\n",
       " '70% off',\n",
       " '61% off',\n",
       " '89% off',\n",
       " '88% off',\n",
       " '82% off',\n",
       " '82% off',\n",
       " '70% off',\n",
       " '82% off',\n",
       " '76% off',\n",
       " '83% off',\n",
       " '88% off',\n",
       " '27% off',\n",
       " '83% off',\n",
       " '20% off',\n",
       " '84% off',\n",
       " '85% off',\n",
       " '90% off',\n",
       " '87% off',\n",
       " '87% off',\n",
       " '88% off',\n",
       " '22% off',\n",
       " '82% off',\n",
       " '81% off',\n",
       " '87% off',\n",
       " '76% off',\n",
       " '89% off',\n",
       " '86% off',\n",
       " '84% off',\n",
       " '88% off',\n",
       " '80% off',\n",
       " '88% off',\n",
       " '78% off',\n",
       " '67% off',\n",
       " '88% off',\n",
       " '81% off',\n",
       " '64% off',\n",
       " '84% off',\n",
       " '25% off',\n",
       " '84% off',\n",
       " '84% off',\n",
       " '70% off',\n",
       " '61% off',\n",
       " '89% off',\n",
       " '88% off',\n",
       " '82% off',\n",
       " '82% off',\n",
       " '70% off',\n",
       " '82% off',\n",
       " '76% off',\n",
       " '83% off',\n",
       " '88% off',\n",
       " '27% off',\n",
       " '83% off',\n",
       " '20% off',\n",
       " '84% off']"
      ]
     },
     "execution_count": 54,
     "metadata": {},
     "output_type": "execute_result"
    }
   ],
   "source": [
    "off = driver.find_elements_by_xpath('//div[@class = \"_3Ay6Sb\"]')\n",
    "for data in off:\n",
    "    offe = data.text\n",
    "    offers.append(offe)\n",
    "offers"
   ]
  },
  {
   "cell_type": "code",
   "execution_count": 56,
   "id": "e1e3cf4d",
   "metadata": {
    "scrolled": true
   },
   "outputs": [
    {
     "data": {
      "text/html": [
       "<div>\n",
       "<style scoped>\n",
       "    .dataframe tbody tr th:only-of-type {\n",
       "        vertical-align: middle;\n",
       "    }\n",
       "\n",
       "    .dataframe tbody tr th {\n",
       "        vertical-align: top;\n",
       "    }\n",
       "\n",
       "    .dataframe thead th {\n",
       "        text-align: right;\n",
       "    }\n",
       "</style>\n",
       "<table border=\"1\" class=\"dataframe\">\n",
       "  <thead>\n",
       "    <tr style=\"text-align: right;\">\n",
       "      <th></th>\n",
       "      <th>Brand_Name</th>\n",
       "      <th>Product_Description</th>\n",
       "      <th>Product_Price</th>\n",
       "      <th>Offers</th>\n",
       "    </tr>\n",
       "  </thead>\n",
       "  <tbody>\n",
       "    <tr>\n",
       "      <th>0</th>\n",
       "      <td>SRPM</td>\n",
       "      <td>UV Protection Wayfarer Sunglasses (56)</td>\n",
       "      <td>₹188</td>\n",
       "      <td>85% off</td>\n",
       "    </tr>\n",
       "    <tr>\n",
       "      <th>1</th>\n",
       "      <td>Elligator</td>\n",
       "      <td>UV Protection Round Sunglasses (54)</td>\n",
       "      <td>₹248</td>\n",
       "      <td>90% off</td>\n",
       "    </tr>\n",
       "    <tr>\n",
       "      <th>2</th>\n",
       "      <td>New Specs</td>\n",
       "      <td>UV Protection Rectangular Sunglasses (Free Size)</td>\n",
       "      <td>₹259</td>\n",
       "      <td>87% off</td>\n",
       "    </tr>\n",
       "    <tr>\n",
       "      <th>3</th>\n",
       "      <td>PIRASO</td>\n",
       "      <td>UV Protection Aviator Sunglasses (54)</td>\n",
       "      <td>₹200</td>\n",
       "      <td>87% off</td>\n",
       "    </tr>\n",
       "    <tr>\n",
       "      <th>4</th>\n",
       "      <td>PIRASO</td>\n",
       "      <td>UV Protection Aviator Sunglasses (54)</td>\n",
       "      <td>₹187</td>\n",
       "      <td>88% off</td>\n",
       "    </tr>\n",
       "  </tbody>\n",
       "</table>\n",
       "</div>"
      ],
      "text/plain": [
       "  Brand_Name                               Product_Description Product_Price  \\\n",
       "0       SRPM            UV Protection Wayfarer Sunglasses (56)          ₹188   \n",
       "1  Elligator               UV Protection Round Sunglasses (54)          ₹248   \n",
       "2  New Specs  UV Protection Rectangular Sunglasses (Free Size)          ₹259   \n",
       "3     PIRASO             UV Protection Aviator Sunglasses (54)          ₹200   \n",
       "4     PIRASO             UV Protection Aviator Sunglasses (54)          ₹187   \n",
       "\n",
       "    Offers  \n",
       "0  85% off  \n",
       "1  90% off  \n",
       "2  87% off  \n",
       "3  87% off  \n",
       "4  88% off  "
      ]
     },
     "execution_count": 56,
     "metadata": {},
     "output_type": "execute_result"
    }
   ],
   "source": [
    "fk = {'Brand_Name' : brand , 'Product_Description' : pds , 'Product_Price' : price , 'Offers' : offers}\n",
    "df = pd.DataFrame.from_dict(fk,orient = 'index')\n",
    "df = df.transpose()\n",
    "df.head()"
   ]
  },
  {
   "cell_type": "code",
   "execution_count": null,
   "id": "c2484c46",
   "metadata": {
    "scrolled": true
   },
   "outputs": [],
   "source": [
    "# 5) programme to scrape 100 reviews data from Flipkart for Iphone11 "
   ]
  },
  {
   "cell_type": "code",
   "execution_count": 57,
   "id": "4844a751",
   "metadata": {
    "scrolled": false
   },
   "outputs": [
    {
     "name": "stderr",
     "output_type": "stream",
     "text": [
      "<ipython-input-57-2e5b3dc4a2f5>:1: DeprecationWarning: executable_path has been deprecated, please pass in a Service object\n",
      "  driver = webdriver.Chrome(r\"C:\\\\Users\\\\adil2\\\\Downloads\\\\chromedriver_win32\\\\chromedriver.exe\")\n"
     ]
    }
   ],
   "source": [
    "driver = webdriver.Chrome(r\"C:\\\\Users\\\\adil2\\\\Downloads\\\\chromedriver_win32\\\\chromedriver.exe\")"
   ]
  },
  {
   "cell_type": "code",
   "execution_count": 58,
   "id": "270b61d1",
   "metadata": {
    "scrolled": true
   },
   "outputs": [],
   "source": [
    "url = 'https://www.flipkart.com/apple-iphone-11-black-64-gb-includes-%20earpods-power%02adapter/p/itm0f37c2240b217?pid=MOBFKCTSVZAXUHGR&lid=LSTMOBFKCTSVZAXUHGREPBFGI&marketplace'\n",
    "driver.get(url)"
   ]
  },
  {
   "cell_type": "code",
   "execution_count": 59,
   "id": "a465af21",
   "metadata": {
    "scrolled": true
   },
   "outputs": [],
   "source": [
    "rating = []\n",
    "r_s = []\n",
    "f_r = []"
   ]
  },
  {
   "cell_type": "code",
   "execution_count": 64,
   "id": "1eb87f97",
   "metadata": {
    "scrolled": false
   },
   "outputs": [
    {
     "name": "stderr",
     "output_type": "stream",
     "text": [
      "<ipython-input-64-9f98d0d97ddb>:1: DeprecationWarning: find_elements_by_* commands are deprecated. Please use find_elements() instead\n",
      "  ratings = driver.find_elements_by_xpath('//div[@class = \"_3LWZlK _1BLPMq\"]')\n"
     ]
    },
    {
     "data": {
      "text/plain": [
       "['5',\n",
       " '5',\n",
       " '5',\n",
       " '',\n",
       " '',\n",
       " '',\n",
       " '',\n",
       " '',\n",
       " '',\n",
       " '',\n",
       " '5',\n",
       " '5',\n",
       " '5',\n",
       " '5',\n",
       " '5',\n",
       " '5',\n",
       " '5',\n",
       " '4',\n",
       " '5',\n",
       " '5',\n",
       " '5',\n",
       " '5',\n",
       " '5',\n",
       " '5',\n",
       " '5',\n",
       " '5',\n",
       " '5',\n",
       " '4',\n",
       " '5',\n",
       " '5']"
      ]
     },
     "execution_count": 64,
     "metadata": {},
     "output_type": "execute_result"
    }
   ],
   "source": [
    "ratings = driver.find_elements_by_xpath('//div[@class = \"_3LWZlK _1BLPMq\"]')\n",
    "for data in ratings:\n",
    "    rate = data.text\n",
    "    rating.append(rate)\n",
    "rating"
   ]
  },
  {
   "cell_type": "code",
   "execution_count": 66,
   "id": "f9af8594",
   "metadata": {
    "scrolled": true
   },
   "outputs": [
    {
     "name": "stderr",
     "output_type": "stream",
     "text": [
      "<ipython-input-66-70301cf49130>:1: DeprecationWarning: find_elements_by_* commands are deprecated. Please use find_elements() instead\n",
      "  rev = driver.find_elements_by_xpath('//p[@class = \"_2-N8zT\"]')\n"
     ]
    },
    {
     "data": {
      "text/plain": [
       "['Brilliant',\n",
       " 'Simply awesome',\n",
       " 'Best in the market!',\n",
       " 'Perfect product!',\n",
       " 'Worth every penny',\n",
       " 'Fabulous!',\n",
       " 'Great product',\n",
       " 'Good choice',\n",
       " 'Worth every penny',\n",
       " 'Highly recommended',\n",
       " 'Brilliant',\n",
       " 'Simply awesome',\n",
       " 'Best in the market!',\n",
       " 'Perfect product!',\n",
       " 'Worth every penny',\n",
       " 'Fabulous!',\n",
       " 'Great product',\n",
       " 'Good choice',\n",
       " 'Worth every penny',\n",
       " 'Highly recommended',\n",
       " 'Brilliant',\n",
       " 'Simply awesome',\n",
       " 'Best in the market!',\n",
       " 'Perfect product!',\n",
       " 'Worth every penny',\n",
       " 'Fabulous!',\n",
       " 'Great product',\n",
       " 'Good choice',\n",
       " 'Worth every penny',\n",
       " 'Highly recommended']"
      ]
     },
     "execution_count": 66,
     "metadata": {},
     "output_type": "execute_result"
    }
   ],
   "source": [
    "rev = driver.find_elements_by_xpath('//p[@class = \"_2-N8zT\"]')\n",
    "for data in rev:\n",
    "    re = data.text\n",
    "    r_s.append(re)\n",
    "r_s"
   ]
  },
  {
   "cell_type": "code",
   "execution_count": 67,
   "id": "1f7a6634",
   "metadata": {},
   "outputs": [
    {
     "name": "stderr",
     "output_type": "stream",
     "text": [
      "<ipython-input-67-b59cf5430280>:1: DeprecationWarning: find_elements_by_* commands are deprecated. Please use find_elements() instead\n",
      "  full = driver.find_elements_by_xpath('//div[@class = \"t-ZTKy\"]')\n"
     ]
    },
    {
     "data": {
      "text/plain": [
       "['The Best Phone for the Money\\n\\nThe iPhone 11 offers superb cameras, a more durable design and excellent battery life for an affordable price.\\n\\nCompelling ultra-wide camera\\nNew Night mode is excellent\\nLong battery life',\n",
       " 'Really satisfied with the Product I received... It’s totally genuine and the packaging was also really good so if ur planning to buy just go for it.',\n",
       " 'Great iPhone very snappy experience as apple kind. Upgraded from iPhone 7.\\nPros\\n-Camera top class\\n- Battery top performed\\n-Chipset no need to say as apple kind\\n-Security as you expect from apple\\n- Display super bright industry leading colour\\naccuracy and super responsive\\n-Build quality as expect from apple sturdy\\npremium durable beautiful stylish.\\n-Os most stable os in smartphone industry\\n\\nCons\\n-No 5G\\n-Display is not based on OLED technology\\n-Charger headphones and 1 apple stic...\\nREAD MORE',\n",
       " 'Amazing phone with great cameras and better battery which gives you the best performance. I just love the camera .',\n",
       " 'Previously I was using one plus 3t it was a great phone\\nAnd then I decided to upgrade I am stuck between Samsung s10 plus or iPhone 11\\nI have seen the specs and everything were good except the display it’s somewhere between 720-1080 and it’s not even an amoled it’s an LCD display\\nBut I decided to go with iPhone because I have never used an IOS device I have Been an android user from the past 9 years I ordered IPhone 11 (128gb) product red\\nMy experience after using 3 weeks\\n1. The delivery ...\\nREAD MORE',\n",
       " 'This is my first iOS phone. I am very happy with this product. Very much satisfied with this. I love this phone.',\n",
       " 'Amazing Powerful and Durable Gadget.\\n\\nI’m am very happy with the camera picture quality, Amazing face id unlocked in dark room, Strong battery with perfect screen size as you can carry easily in pocket. This is my third iPhone.\\n\\nI shifted from android Samsung Note series to iPhone because of the strong build quality and peace of mind for next 3-4 years.\\n\\nDon’t think to much just go for it and I suggest you to go for minimum 128gb variant or more 256gb.\\n\\nI’ve attached my puppy pics and no fi...\\nREAD MORE',\n",
       " 'So far it’s been an AMAZING experience coming back to iOS after nearly a decade but it’s not as versatile as android though phone is sturdy dropped it accidentally a couple of times and nothing happened fortunately camera is awesome',\n",
       " 'i11 is worthy to buy, too much happy with the product. Thank u flipkart I received the item on time..loved it..',\n",
       " 'What a camera .....just awesome ..you can feel this iPhone just awesome . Good for gaming also ...try pubg in hd it’s just wow',\n",
       " 'The Best Phone for the Money\\n\\nThe iPhone 11 offers superb cameras, a more durable design and excellent battery life for an affordable price.\\n\\nCompelling ultra-wide camera\\nNew Night mode is excellent\\nLong battery life',\n",
       " 'Really satisfied with the Product I received... It’s totally genuine and the packaging was also really good so if ur planning to buy just go for it.',\n",
       " 'Great iPhone very snappy experience as apple kind. Upgraded from iPhone 7.\\nPros\\n-Camera top class\\n- Battery top performed\\n-Chipset no need to say as apple kind\\n-Security as you expect from apple\\n- Display super bright industry leading colour\\naccuracy and super responsive\\n-Build quality as expect from apple sturdy\\npremium durable beautiful stylish.\\n-Os most stable os in smartphone industry\\n\\nCons\\n-No 5G\\n-Display is not based on OLED technology\\n-Charger headphones and 1 apple stic...\\nREAD MORE',\n",
       " 'Amazing phone with great cameras and better battery which gives you the best performance. I just love the camera .',\n",
       " 'Previously I was using one plus 3t it was a great phone\\nAnd then I decided to upgrade I am stuck between Samsung s10 plus or iPhone 11\\nI have seen the specs and everything were good except the display it’s somewhere between 720-1080 and it’s not even an amoled it’s an LCD display\\nBut I decided to go with iPhone because I have never used an IOS device I have Been an android user from the past 9 years I ordered IPhone 11 (128gb) product red\\nMy experience after using 3 weeks\\n1. The delivery ...\\nREAD MORE',\n",
       " 'This is my first iOS phone. I am very happy with this product. Very much satisfied with this. I love this phone.',\n",
       " 'Amazing Powerful and Durable Gadget.\\n\\nI’m am very happy with the camera picture quality, Amazing face id unlocked in dark room, Strong battery with perfect screen size as you can carry easily in pocket. This is my third iPhone.\\n\\nI shifted from android Samsung Note series to iPhone because of the strong build quality and peace of mind for next 3-4 years.\\n\\nDon’t think to much just go for it and I suggest you to go for minimum 128gb variant or more 256gb.\\n\\nI’ve attached my puppy pics and no fi...\\nREAD MORE',\n",
       " 'So far it’s been an AMAZING experience coming back to iOS after nearly a decade but it’s not as versatile as android though phone is sturdy dropped it accidentally a couple of times and nothing happened fortunately camera is awesome',\n",
       " 'i11 is worthy to buy, too much happy with the product. Thank u flipkart I received the item on time..loved it..',\n",
       " 'What a camera .....just awesome ..you can feel this iPhone just awesome . Good for gaming also ...try pubg in hd it’s just wow']"
      ]
     },
     "execution_count": 67,
     "metadata": {},
     "output_type": "execute_result"
    }
   ],
   "source": [
    "full = driver.find_elements_by_xpath('//div[@class = \"t-ZTKy\"]')\n",
    "for data in full:\n",
    "    full_r = data.text\n",
    "    f_r.append(full_r)\n",
    "f_r"
   ]
  },
  {
   "cell_type": "code",
   "execution_count": null,
   "id": "f128029a",
   "metadata": {},
   "outputs": [],
   "source": [
    "# 6) programme to scrape 100 sneakers details from Flipkart.com a) Brand b) PD c) Price d) offer"
   ]
  },
  {
   "cell_type": "code",
   "execution_count": 70,
   "id": "9c183977",
   "metadata": {},
   "outputs": [
    {
     "name": "stderr",
     "output_type": "stream",
     "text": [
      "<ipython-input-70-2e5b3dc4a2f5>:1: DeprecationWarning: executable_path has been deprecated, please pass in a Service object\n",
      "  driver = webdriver.Chrome(r\"C:\\\\Users\\\\adil2\\\\Downloads\\\\chromedriver_win32\\\\chromedriver.exe\")\n"
     ]
    }
   ],
   "source": [
    "driver = webdriver.Chrome(r\"C:\\\\Users\\\\adil2\\\\Downloads\\\\chromedriver_win32\\\\chromedriver.exe\")"
   ]
  },
  {
   "cell_type": "code",
   "execution_count": 71,
   "id": "fb633225",
   "metadata": {},
   "outputs": [],
   "source": [
    "driver.get('https://www.flipkart.com/')"
   ]
  },
  {
   "cell_type": "code",
   "execution_count": 72,
   "id": "4fb9b641",
   "metadata": {},
   "outputs": [],
   "source": [
    "bran1 = []\n",
    "prod = []\n",
    "pr1 = []\n",
    "off1 = []"
   ]
  },
  {
   "cell_type": "code",
   "execution_count": 74,
   "id": "e7e3e4df",
   "metadata": {},
   "outputs": [
    {
     "name": "stderr",
     "output_type": "stream",
     "text": [
      "<ipython-input-74-de1674ae883a>:1: DeprecationWarning: find_elements_by_* commands are deprecated. Please use find_elements() instead\n",
      "  s_n = driver.find_elements_by_xpath('//div[@class = \"_2WkVRV\"]')\n"
     ]
    },
    {
     "data": {
      "text/plain": [
       "['RED TAPE',\n",
       " 'PUMA',\n",
       " 'URBANBOX',\n",
       " 'BRUTON',\n",
       " 'Shoes Bank',\n",
       " 'T-ROCK',\n",
       " 'BIRDE',\n",
       " 'RED TAPE',\n",
       " 'BIRDE',\n",
       " 'Magnolia',\n",
       " 'Chevit',\n",
       " 'Maxotian',\n",
       " 'Clymb',\n",
       " 'Numenzo',\n",
       " 'Edoeviv',\n",
       " 'RED TAPE',\n",
       " 'Kraasa',\n",
       " 'Numenzo',\n",
       " 'Rzisbo',\n",
       " 'RED TAPE',\n",
       " 'BRUTON',\n",
       " 'ganpati traders',\n",
       " 'RapidBox',\n",
       " 'RED TAPE',\n",
       " 'BIRDE',\n",
       " 'SCATCHITE',\n",
       " 'Trendmode',\n",
       " 'RED TAPE',\n",
       " 'Labbin',\n",
       " 'BIRDE',\n",
       " 'Chevit',\n",
       " 'RED TAPE',\n",
       " 'BIRDE',\n",
       " 'Robbie jones',\n",
       " 'D-SNEAKERZ',\n",
       " 'RED TAPE',\n",
       " 'ASTEROID',\n",
       " 'PACIFIER',\n",
       " 'Extoes',\n",
       " 'RED TAPE',\n",
       " 'RED TAPE',\n",
       " 'PUMA',\n",
       " 'URBANBOX',\n",
       " 'BRUTON',\n",
       " 'Shoes Bank',\n",
       " 'T-ROCK',\n",
       " 'BIRDE',\n",
       " 'RED TAPE',\n",
       " 'BIRDE',\n",
       " 'Magnolia',\n",
       " 'Chevit',\n",
       " 'Maxotian',\n",
       " 'Clymb',\n",
       " 'Numenzo',\n",
       " 'Edoeviv',\n",
       " 'RED TAPE',\n",
       " 'Kraasa',\n",
       " 'Numenzo',\n",
       " 'Rzisbo',\n",
       " 'RED TAPE',\n",
       " 'BRUTON',\n",
       " 'ganpati traders',\n",
       " 'RapidBox',\n",
       " 'RED TAPE',\n",
       " 'BIRDE',\n",
       " 'SCATCHITE',\n",
       " 'Trendmode',\n",
       " 'RED TAPE',\n",
       " 'Labbin',\n",
       " 'BIRDE',\n",
       " 'Chevit',\n",
       " 'RED TAPE',\n",
       " 'BIRDE',\n",
       " 'Robbie jones',\n",
       " 'D-SNEAKERZ',\n",
       " 'RED TAPE',\n",
       " 'ASTEROID',\n",
       " 'PACIFIER',\n",
       " 'Extoes',\n",
       " 'RED TAPE']"
      ]
     },
     "execution_count": 74,
     "metadata": {},
     "output_type": "execute_result"
    }
   ],
   "source": [
    "s_n = driver.find_elements_by_xpath('//div[@class = \"_2WkVRV\"]')\n",
    "for data in s_n:\n",
    "    s_n1 = data.text\n",
    "    bran1.append(s_n1)\n",
    "bran1"
   ]
  },
  {
   "cell_type": "code",
   "execution_count": 76,
   "id": "584f0e7a",
   "metadata": {},
   "outputs": [
    {
     "name": "stderr",
     "output_type": "stream",
     "text": [
      "<ipython-input-76-e993e09ef9f2>:1: DeprecationWarning: find_elements_by_* commands are deprecated. Please use find_elements() instead\n",
      "  s_n_d = driver.find_elements_by_xpath('//a[@class = \"IRpwTa\"]')\n"
     ]
    },
    {
     "data": {
      "text/plain": [
       "['Classic Sneakers For Men',\n",
       " 'Puma Smash v2 Buck Sneakers For Men',\n",
       " 'Modern Trendy Sneakers Shoes Sneakers For Men',\n",
       " \"White Sneaker For Men's/Boy's Sneakers For Men\",\n",
       " 'Synthetic Leather Casual Partywear Wedding Sneakers Sho...',\n",
       " 'Sports Running Shoes Sneakers For Men',\n",
       " 'Sneakers For Men',\n",
       " 'Combo Pack of 2 Casual Shoes Sneakers For Men',\n",
       " 'Sneakers For Men',\n",
       " 'Super Stylish & Trendy Combo Pack of 02 Pairs Sneakers ...',\n",
       " 'Sneakers For Men',\n",
       " 'Sneakers For Men',\n",
       " 'White Sneaker For Men Sneakers For Men',\n",
       " \"Luxury Branded Fashionable Men's Casual Walking Partywe...\",\n",
       " 'Sneakers For Men',\n",
       " 'Shark-41 Sneakers For Men',\n",
       " '411 Casual Sneakers For Men',\n",
       " 'Sneakers For Men',\n",
       " 'Lattest Sneakers Shoe Sneakers For Men',\n",
       " 'Sneakers For Men',\n",
       " 'Combo Pack of 2 Casual Shoes Sneakers For Men',\n",
       " 'Sneakers Sneakers For Men',\n",
       " 'Sneakers For Men',\n",
       " 'Sneakers For Men',\n",
       " 'Sneakers For Men',\n",
       " 'Casual Shoes Sneakers For Men',\n",
       " 'Combo Pack of 4 Casual Sneakers With Sneakers For Men',\n",
       " 'Classic Sneakers For Men',\n",
       " 'Combo Pack of 2 Casual Shoes Sneakers For Men',\n",
       " 'Casual Sneakers Black Shoes For Men Sneakers For Men',\n",
       " \"Casual , Partywear Sneakers Shoes For Men's And Boys Wh...\",\n",
       " 'Sneakers For Men',\n",
       " \"Original Luxury Branded Fashionable Men's Casual Walkin...\",\n",
       " 'Sneakers For Men',\n",
       " 'Modern Trendy Shoes Combo pack of 4 Sneakers For Men',\n",
       " 'Sneakers For Men',\n",
       " 'Classic Sneakers For Men',\n",
       " 'Puma Smash v2 Buck Sneakers For Men',\n",
       " 'Modern Trendy Sneakers Shoes Sneakers For Men',\n",
       " \"White Sneaker For Men's/Boy's Sneakers For Men\",\n",
       " 'Synthetic Leather Casual Partywear Wedding Sneakers Sho...',\n",
       " 'Sports Running Shoes Sneakers For Men',\n",
       " 'Sneakers For Men',\n",
       " 'Combo Pack of 2 Casual Shoes Sneakers For Men',\n",
       " 'Sneakers For Men',\n",
       " 'Super Stylish & Trendy Combo Pack of 02 Pairs Sneakers ...',\n",
       " 'Sneakers For Men',\n",
       " 'Sneakers For Men',\n",
       " 'White Sneaker For Men Sneakers For Men',\n",
       " \"Luxury Branded Fashionable Men's Casual Walking Partywe...\",\n",
       " 'Sneakers For Men',\n",
       " 'Shark-41 Sneakers For Men',\n",
       " '411 Casual Sneakers For Men',\n",
       " 'Sneakers For Men',\n",
       " 'Lattest Sneakers Shoe Sneakers For Men',\n",
       " 'Sneakers For Men',\n",
       " 'Combo Pack of 2 Casual Shoes Sneakers For Men',\n",
       " 'Sneakers Sneakers For Men',\n",
       " 'Sneakers For Men',\n",
       " 'Sneakers For Men',\n",
       " 'Sneakers For Men',\n",
       " 'Casual Shoes Sneakers For Men',\n",
       " 'Combo Pack of 4 Casual Sneakers With Sneakers For Men',\n",
       " 'Classic Sneakers For Men',\n",
       " 'Combo Pack of 2 Casual Shoes Sneakers For Men',\n",
       " 'Casual Sneakers Black Shoes For Men Sneakers For Men',\n",
       " \"Casual , Partywear Sneakers Shoes For Men's And Boys Wh...\",\n",
       " 'Sneakers For Men',\n",
       " \"Original Luxury Branded Fashionable Men's Casual Walkin...\",\n",
       " 'Sneakers For Men',\n",
       " 'Modern Trendy Shoes Combo pack of 4 Sneakers For Men',\n",
       " 'Sneakers For Men']"
      ]
     },
     "execution_count": 76,
     "metadata": {},
     "output_type": "execute_result"
    }
   ],
   "source": [
    "s_n_d = driver.find_elements_by_xpath('//a[@class = \"IRpwTa\"]')\n",
    "for data in s_n_d:\n",
    "    s_n_d1 = data.text\n",
    "    prod.append(s_n_d1)\n",
    "prod"
   ]
  },
  {
   "cell_type": "code",
   "execution_count": 78,
   "id": "eb552920",
   "metadata": {},
   "outputs": [
    {
     "name": "stderr",
     "output_type": "stream",
     "text": [
      "<ipython-input-78-a25449e557fe>:1: DeprecationWarning: find_elements_by_* commands are deprecated. Please use find_elements() instead\n",
      "  prc = driver.find_elements_by_xpath('//div[@class = \"_30jeq3\"]')\n"
     ]
    },
    {
     "data": {
      "text/plain": [
       "['₹1,398',\n",
       " '₹1,749',\n",
       " '₹220',\n",
       " '₹339',\n",
       " '₹331',\n",
       " '₹379',\n",
       " '₹299',\n",
       " '₹1,048',\n",
       " '₹422',\n",
       " '₹398',\n",
       " '₹536',\n",
       " '₹569',\n",
       " '₹649',\n",
       " '₹479',\n",
       " '₹499',\n",
       " '₹1,373',\n",
       " '₹444',\n",
       " '₹499',\n",
       " '₹549',\n",
       " '₹1,174',\n",
       " '₹299',\n",
       " '₹183',\n",
       " '₹680',\n",
       " '₹1,049',\n",
       " '₹423',\n",
       " '₹398',\n",
       " '₹369',\n",
       " '₹1,373',\n",
       " '₹474',\n",
       " '₹311',\n",
       " '₹606',\n",
       " '₹1,423',\n",
       " '₹423',\n",
       " '₹451',\n",
       " '₹348',\n",
       " '₹1,398',\n",
       " '₹474',\n",
       " '₹499',\n",
       " '₹898',\n",
       " '₹1,373',\n",
       " '₹1,398',\n",
       " '₹1,749',\n",
       " '₹220',\n",
       " '₹339',\n",
       " '₹331',\n",
       " '₹379',\n",
       " '₹299',\n",
       " '₹1,048',\n",
       " '₹422',\n",
       " '₹398',\n",
       " '₹536',\n",
       " '₹569',\n",
       " '₹649',\n",
       " '₹479',\n",
       " '₹499',\n",
       " '₹1,373',\n",
       " '₹444',\n",
       " '₹499',\n",
       " '₹549',\n",
       " '₹1,174',\n",
       " '₹299',\n",
       " '₹183',\n",
       " '₹680',\n",
       " '₹1,049',\n",
       " '₹423',\n",
       " '₹398',\n",
       " '₹369',\n",
       " '₹1,373',\n",
       " '₹474',\n",
       " '₹311',\n",
       " '₹606',\n",
       " '₹1,423',\n",
       " '₹423',\n",
       " '₹451',\n",
       " '₹348',\n",
       " '₹1,398',\n",
       " '₹474',\n",
       " '₹499',\n",
       " '₹898',\n",
       " '₹1,373']"
      ]
     },
     "execution_count": 78,
     "metadata": {},
     "output_type": "execute_result"
    }
   ],
   "source": [
    "prc = driver.find_elements_by_xpath('//div[@class = \"_30jeq3\"]')\n",
    "for data in prc:\n",
    "    prc1 = data.text\n",
    "    pr1.append(prc1)\n",
    "pr1"
   ]
  },
  {
   "cell_type": "code",
   "execution_count": 80,
   "id": "ff365121",
   "metadata": {},
   "outputs": [
    {
     "name": "stderr",
     "output_type": "stream",
     "text": [
      "<ipython-input-80-1e6d4cba7d4b>:1: DeprecationWarning: find_elements_by_* commands are deprecated. Please use find_elements() instead\n",
      "  of1 = driver.find_elements_by_xpath('//div[@class = \"_3Ay6Sb\"]')\n"
     ]
    },
    {
     "data": {
      "text/plain": [
       "['75% off',\n",
       " '50% off',\n",
       " '77% off',\n",
       " '73% off',\n",
       " '66% off',\n",
       " '62% off',\n",
       " '40% off',\n",
       " '75% off',\n",
       " '57% off',\n",
       " '60% off',\n",
       " '66% off',\n",
       " '52% off',\n",
       " '56% off',\n",
       " '63% off',\n",
       " '37% off',\n",
       " '75% off',\n",
       " '55% off',\n",
       " '75% off',\n",
       " '45% off',\n",
       " '75% off',\n",
       " '76% off',\n",
       " '63% off',\n",
       " '31% off',\n",
       " '77% off',\n",
       " '57% off',\n",
       " '60% off',\n",
       " '63% off',\n",
       " '75% off',\n",
       " '52% off',\n",
       " '68% off',\n",
       " '69% off',\n",
       " '75% off',\n",
       " '57% off',\n",
       " '54% off',\n",
       " '47% off',\n",
       " '75% off',\n",
       " '76% off',\n",
       " '57% off',\n",
       " '40% off',\n",
       " '75% off',\n",
       " '75% off',\n",
       " '50% off',\n",
       " '77% off',\n",
       " '73% off',\n",
       " '66% off',\n",
       " '62% off',\n",
       " '40% off',\n",
       " '75% off',\n",
       " '57% off',\n",
       " '60% off',\n",
       " '66% off',\n",
       " '52% off',\n",
       " '56% off',\n",
       " '63% off',\n",
       " '37% off',\n",
       " '75% off',\n",
       " '55% off',\n",
       " '75% off',\n",
       " '45% off',\n",
       " '75% off',\n",
       " '76% off',\n",
       " '63% off',\n",
       " '31% off',\n",
       " '77% off',\n",
       " '57% off',\n",
       " '60% off',\n",
       " '63% off',\n",
       " '75% off',\n",
       " '52% off',\n",
       " '68% off',\n",
       " '69% off',\n",
       " '75% off',\n",
       " '57% off',\n",
       " '54% off',\n",
       " '47% off',\n",
       " '75% off',\n",
       " '76% off',\n",
       " '57% off',\n",
       " '40% off',\n",
       " '75% off']"
      ]
     },
     "execution_count": 80,
     "metadata": {},
     "output_type": "execute_result"
    }
   ],
   "source": [
    "of1 = driver.find_elements_by_xpath('//div[@class = \"_3Ay6Sb\"]')\n",
    "for data in of1:\n",
    "    offe1 = data.text\n",
    "    off1.append(offe1)\n",
    "off1"
   ]
  },
  {
   "cell_type": "code",
   "execution_count": 81,
   "id": "52f04290",
   "metadata": {},
   "outputs": [
    {
     "data": {
      "text/html": [
       "<div>\n",
       "<style scoped>\n",
       "    .dataframe tbody tr th:only-of-type {\n",
       "        vertical-align: middle;\n",
       "    }\n",
       "\n",
       "    .dataframe tbody tr th {\n",
       "        vertical-align: top;\n",
       "    }\n",
       "\n",
       "    .dataframe thead th {\n",
       "        text-align: right;\n",
       "    }\n",
       "</style>\n",
       "<table border=\"1\" class=\"dataframe\">\n",
       "  <thead>\n",
       "    <tr style=\"text-align: right;\">\n",
       "      <th></th>\n",
       "      <th>Sneaker_Brand</th>\n",
       "      <th>Sneaker_desc</th>\n",
       "      <th>Sneaker_price</th>\n",
       "      <th>offers</th>\n",
       "    </tr>\n",
       "  </thead>\n",
       "  <tbody>\n",
       "    <tr>\n",
       "      <th>0</th>\n",
       "      <td>RED TAPE</td>\n",
       "      <td>Classic Sneakers For Men</td>\n",
       "      <td>₹1,398</td>\n",
       "      <td>75% off</td>\n",
       "    </tr>\n",
       "    <tr>\n",
       "      <th>1</th>\n",
       "      <td>PUMA</td>\n",
       "      <td>Puma Smash v2 Buck Sneakers For Men</td>\n",
       "      <td>₹1,749</td>\n",
       "      <td>50% off</td>\n",
       "    </tr>\n",
       "    <tr>\n",
       "      <th>2</th>\n",
       "      <td>URBANBOX</td>\n",
       "      <td>Modern Trendy Sneakers Shoes Sneakers For Men</td>\n",
       "      <td>₹220</td>\n",
       "      <td>77% off</td>\n",
       "    </tr>\n",
       "    <tr>\n",
       "      <th>3</th>\n",
       "      <td>BRUTON</td>\n",
       "      <td>White Sneaker For Men's/Boy's Sneakers For Men</td>\n",
       "      <td>₹339</td>\n",
       "      <td>73% off</td>\n",
       "    </tr>\n",
       "    <tr>\n",
       "      <th>4</th>\n",
       "      <td>Shoes Bank</td>\n",
       "      <td>Synthetic Leather Casual Partywear Wedding Sne...</td>\n",
       "      <td>₹331</td>\n",
       "      <td>66% off</td>\n",
       "    </tr>\n",
       "  </tbody>\n",
       "</table>\n",
       "</div>"
      ],
      "text/plain": [
       "  Sneaker_Brand                                       Sneaker_desc  \\\n",
       "0      RED TAPE                           Classic Sneakers For Men   \n",
       "1          PUMA                Puma Smash v2 Buck Sneakers For Men   \n",
       "2      URBANBOX      Modern Trendy Sneakers Shoes Sneakers For Men   \n",
       "3        BRUTON     White Sneaker For Men's/Boy's Sneakers For Men   \n",
       "4    Shoes Bank  Synthetic Leather Casual Partywear Wedding Sne...   \n",
       "\n",
       "  Sneaker_price   offers  \n",
       "0        ₹1,398  75% off  \n",
       "1        ₹1,749  50% off  \n",
       "2          ₹220  77% off  \n",
       "3          ₹339  73% off  \n",
       "4          ₹331  66% off  "
      ]
     },
     "execution_count": 81,
     "metadata": {},
     "output_type": "execute_result"
    }
   ],
   "source": [
    "sneakers = {'Sneaker_Brand' : bran1 , 'Sneaker_desc' : prod, 'Sneaker_price' : pr1 , 'offers' : off1}\n",
    "df = pd.DataFrame.from_dict(sneakers,orient = 'index')\n",
    "df = df.transpose()\n",
    "df.head()"
   ]
  },
  {
   "cell_type": "code",
   "execution_count": null,
   "id": "1b7465a5",
   "metadata": {},
   "outputs": [],
   "source": [
    "# 7) programme to scrape 100 shoes details from Myntra.com"
   ]
  },
  {
   "cell_type": "code",
   "execution_count": 82,
   "id": "4186a39a",
   "metadata": {},
   "outputs": [
    {
     "name": "stderr",
     "output_type": "stream",
     "text": [
      "<ipython-input-82-2e5b3dc4a2f5>:1: DeprecationWarning: executable_path has been deprecated, please pass in a Service object\n",
      "  driver = webdriver.Chrome(r\"C:\\\\Users\\\\adil2\\\\Downloads\\\\chromedriver_win32\\\\chromedriver.exe\")\n"
     ]
    }
   ],
   "source": [
    "driver = webdriver.Chrome(r\"C:\\\\Users\\\\adil2\\\\Downloads\\\\chromedriver_win32\\\\chromedriver.exe\")"
   ]
  },
  {
   "cell_type": "code",
   "execution_count": 83,
   "id": "5f7fa011",
   "metadata": {},
   "outputs": [],
   "source": [
    "url = 'https://www.myntra.com/shoes'\n",
    "driver.get(url)"
   ]
  },
  {
   "cell_type": "code",
   "execution_count": 84,
   "id": "88ec81fb",
   "metadata": {},
   "outputs": [],
   "source": [
    "brr = []\n",
    "sd = []\n",
    "sp = []"
   ]
  },
  {
   "cell_type": "code",
   "execution_count": 86,
   "id": "1ac8162c",
   "metadata": {},
   "outputs": [
    {
     "name": "stderr",
     "output_type": "stream",
     "text": [
      "<ipython-input-86-240a7f519554>:1: DeprecationWarning: find_elements_by_* commands are deprecated. Please use find_elements() instead\n",
      "  br1 = driver.find_elements_by_xpath('//h3[@class = \"product-brand\"]')\n"
     ]
    },
    {
     "data": {
      "text/plain": [
       "['ASICS',\n",
       " 'Puma',\n",
       " 'Puma',\n",
       " 'Hush Puppies',\n",
       " 'ADIDAS',\n",
       " 'Hush Puppies',\n",
       " 'Puma',\n",
       " 'FORCLAZ By Decathlon',\n",
       " 'ASICS',\n",
       " 'Puma',\n",
       " 'Xtep',\n",
       " 'Saint G',\n",
       " 'Hush Puppies',\n",
       " 'UNDER ARMOUR',\n",
       " 'Heel & Buckle London',\n",
       " 'ASICS',\n",
       " 'Xtep',\n",
       " 'Hush Puppies',\n",
       " 'ASICS',\n",
       " 'Hush Puppies',\n",
       " 'Puma',\n",
       " 'Hush Puppies',\n",
       " 'Hush Puppies',\n",
       " 'ASICS',\n",
       " 'Bugatti',\n",
       " 'Ruosh',\n",
       " 'RARE RABBIT',\n",
       " 'UNDER ARMOUR',\n",
       " 'Saint G',\n",
       " 'Cole Haan',\n",
       " 'Cole Haan',\n",
       " 'Saint G',\n",
       " 'DAVINCHI',\n",
       " 'DAVINCHI',\n",
       " 'Bugatti',\n",
       " 'Cole Haan',\n",
       " 'Saint G',\n",
       " 'J.FONTINI',\n",
       " 'ASICS',\n",
       " 'Hush Puppies',\n",
       " 'RARE RABBIT',\n",
       " 'Bugatti',\n",
       " 'H&M',\n",
       " 'Saint G',\n",
       " 'Geox',\n",
       " 'DAVINCHI',\n",
       " 'Hush Puppies',\n",
       " 'Ruosh',\n",
       " 'MANGO',\n",
       " 'Clarks',\n",
       " 'ASICS',\n",
       " 'Puma',\n",
       " 'Puma',\n",
       " 'Hush Puppies',\n",
       " 'ADIDAS',\n",
       " 'Hush Puppies',\n",
       " 'Puma',\n",
       " 'FORCLAZ By Decathlon',\n",
       " 'ASICS',\n",
       " 'Puma',\n",
       " 'Xtep',\n",
       " 'Saint G',\n",
       " 'Hush Puppies',\n",
       " 'UNDER ARMOUR',\n",
       " 'Heel & Buckle London',\n",
       " 'ASICS',\n",
       " 'Xtep',\n",
       " 'Hush Puppies',\n",
       " 'ASICS',\n",
       " 'Hush Puppies',\n",
       " 'Puma',\n",
       " 'Hush Puppies',\n",
       " 'Hush Puppies',\n",
       " 'ASICS',\n",
       " 'Bugatti',\n",
       " 'Ruosh',\n",
       " 'RARE RABBIT',\n",
       " 'UNDER ARMOUR',\n",
       " 'Saint G',\n",
       " 'Cole Haan',\n",
       " 'Cole Haan',\n",
       " 'Saint G',\n",
       " 'DAVINCHI',\n",
       " 'DAVINCHI',\n",
       " 'Bugatti',\n",
       " 'Cole Haan',\n",
       " 'Saint G',\n",
       " 'J.FONTINI',\n",
       " 'ASICS',\n",
       " 'Hush Puppies',\n",
       " 'RARE RABBIT',\n",
       " 'Bugatti',\n",
       " 'H&M',\n",
       " 'Saint G',\n",
       " 'Geox',\n",
       " 'DAVINCHI',\n",
       " 'Hush Puppies',\n",
       " 'Ruosh',\n",
       " 'MANGO',\n",
       " 'Clarks']"
      ]
     },
     "execution_count": 86,
     "metadata": {},
     "output_type": "execute_result"
    }
   ],
   "source": [
    "br1 = driver.find_elements_by_xpath('//h3[@class = \"product-brand\"]')\n",
    "for data in br1:\n",
    "    br2 = data.text\n",
    "    brr.append(br2)\n",
    "brr"
   ]
  },
  {
   "cell_type": "code",
   "execution_count": 87,
   "id": "fdc2b6e9",
   "metadata": {},
   "outputs": [
    {
     "name": "stderr",
     "output_type": "stream",
     "text": [
      "<ipython-input-87-405a40b5991b>:1: DeprecationWarning: find_elements_by_* commands are deprecated. Please use find_elements() instead\n",
      "  sd1 = driver.find_elements_by_xpath('//h4[@class = \"product-product\"]')\n"
     ]
    },
    {
     "data": {
      "text/plain": [
       "['Men GEL-KAYANO 27 Shoes',\n",
       " 'Men Deviate Nitro Running Shoe',\n",
       " 'Men Running Shoes',\n",
       " 'Men Solid Leather Formal Slip-Ons',\n",
       " 'Women Running Shoes',\n",
       " 'Men Leather Slip-On Sneakers',\n",
       " 'Men Magnify Nitro Running',\n",
       " 'TREKKING 100 Boots',\n",
       " 'Men Black Running Sports Shoes',\n",
       " 'Women Eternity NITRO Shoes',\n",
       " 'Men Running Shoes',\n",
       " 'Men Mid-Top Chelsea Boots',\n",
       " 'Men Formal Derbys',\n",
       " 'Women Charged Vantage ClrShft',\n",
       " 'Men Leather Loafers',\n",
       " 'Men Running Shoes',\n",
       " 'Men Running Shoes',\n",
       " 'Men Solid Leather Formal Derbys',\n",
       " 'Men GT-800 Running Shoes',\n",
       " 'Men Leather Slip-On Sneakers',\n",
       " 'Women Magnify Nitro Shoes',\n",
       " 'Men Solid Leather Formal Slip-Ons',\n",
       " 'Men Solid Formal Slip-Ons',\n",
       " 'Men Colourblocked PU Sneakers',\n",
       " 'Men Sneakers',\n",
       " 'Men Leather Slip-On Shoes',\n",
       " 'Men Leather Flat Boots',\n",
       " 'Women Charged Impulse Shft',\n",
       " 'Women Leather Heeled Boots',\n",
       " 'Men Solid Sneakers',\n",
       " 'Men Wingtip Oxford Sneakers',\n",
       " 'Suede Block Heeled Boots',\n",
       " 'Ustraa black',\n",
       " 'Men Textured Leather Formal Oxfords',\n",
       " 'Leather Block Heeled Boots',\n",
       " 'Men GENERATION ZEROGRAND STITCHLITE',\n",
       " 'Women Leather Heeled Boots',\n",
       " 'Men Textured Leather Loafers',\n",
       " 'Skycourt Sneakers',\n",
       " 'Men Leather Formal Derbys',\n",
       " 'Men Leather Formal Slip-Ons',\n",
       " 'Men Leather Flat Boots',\n",
       " 'Leather Chelsea Boots',\n",
       " 'Leather Boots with Buckles',\n",
       " 'Men Leather Formal Derbys',\n",
       " 'Men Textured Formal Loafers',\n",
       " 'Men Solid Formal Leather Slip-Ons',\n",
       " 'Men Solid Leather Formal Monks',\n",
       " 'Women Mid Top Chunky Flat Boot',\n",
       " 'Men Solid Leather Formal Loafers']"
      ]
     },
     "execution_count": 87,
     "metadata": {},
     "output_type": "execute_result"
    }
   ],
   "source": [
    "sd1 = driver.find_elements_by_xpath('//h4[@class = \"product-product\"]')\n",
    "for data in sd1:\n",
    "    sd2 = data.text\n",
    "    sd.append(sd2)\n",
    "sd"
   ]
  },
  {
   "cell_type": "code",
   "execution_count": 89,
   "id": "7db7184d",
   "metadata": {},
   "outputs": [
    {
     "name": "stderr",
     "output_type": "stream",
     "text": [
      "<ipython-input-89-ba7a978feee2>:1: DeprecationWarning: find_elements_by_* commands are deprecated. Please use find_elements() instead\n",
      "  sp1 = driver.find_elements_by_xpath('//span[@class = \"product-discountedPrice\"]')\n"
     ]
    },
    {
     "data": {
      "text/plain": [
       "['Rs. 10499',\n",
       " 'Rs. 8249',\n",
       " 'Rs. 6499',\n",
       " 'Rs. 8099',\n",
       " 'Rs. 6299',\n",
       " 'Rs. 7799',\n",
       " 'Rs. 6499',\n",
       " 'Rs. 9810',\n",
       " 'Rs. 8999',\n",
       " 'Rs. 6293',\n",
       " 'Rs. 8999',\n",
       " 'Rs. 7999',\n",
       " 'Rs. 6499',\n",
       " 'Rs. 8999',\n",
       " 'Rs. 8999',\n",
       " 'Rs. 8999',\n",
       " 'Rs. 8799',\n",
       " 'Rs. 7999',\n",
       " 'Rs. 10875',\n",
       " 'Rs. 11899',\n",
       " 'Rs. 10399',\n",
       " 'Rs. 10350',\n",
       " 'Rs. 8399',\n",
       " 'Rs. 10875',\n",
       " 'Rs. 6299',\n",
       " 'Rs. 6499',\n",
       " 'Rs. 8500',\n",
       " 'Rs. 8999',\n",
       " 'Rs. 7191',\n",
       " 'Rs. 10499',\n",
       " 'Rs. 8249',\n",
       " 'Rs. 6499',\n",
       " 'Rs. 8099',\n",
       " 'Rs. 6299',\n",
       " 'Rs. 7799',\n",
       " 'Rs. 6499',\n",
       " 'Rs. 9810',\n",
       " 'Rs. 8999',\n",
       " 'Rs. 6293',\n",
       " 'Rs. 8999',\n",
       " 'Rs. 7999',\n",
       " 'Rs. 6499',\n",
       " 'Rs. 8999',\n",
       " 'Rs. 8999',\n",
       " 'Rs. 8999',\n",
       " 'Rs. 8799',\n",
       " 'Rs. 7999',\n",
       " 'Rs. 10875',\n",
       " 'Rs. 11899',\n",
       " 'Rs. 10399',\n",
       " 'Rs. 10350',\n",
       " 'Rs. 8399',\n",
       " 'Rs. 10875',\n",
       " 'Rs. 6299',\n",
       " 'Rs. 6499',\n",
       " 'Rs. 8500',\n",
       " 'Rs. 8999',\n",
       " 'Rs. 7191']"
      ]
     },
     "execution_count": 89,
     "metadata": {},
     "output_type": "execute_result"
    }
   ],
   "source": [
    "sp1 = driver.find_elements_by_xpath('//span[@class = \"product-discountedPrice\"]')\n",
    "for data in sp1:\n",
    "    sp2 = data.text\n",
    "    sp.append(sp2)\n",
    "sp"
   ]
  },
  {
   "cell_type": "code",
   "execution_count": 90,
   "id": "b549c183",
   "metadata": {},
   "outputs": [
    {
     "data": {
      "text/html": [
       "<div>\n",
       "<style scoped>\n",
       "    .dataframe tbody tr th:only-of-type {\n",
       "        vertical-align: middle;\n",
       "    }\n",
       "\n",
       "    .dataframe tbody tr th {\n",
       "        vertical-align: top;\n",
       "    }\n",
       "\n",
       "    .dataframe thead th {\n",
       "        text-align: right;\n",
       "    }\n",
       "</style>\n",
       "<table border=\"1\" class=\"dataframe\">\n",
       "  <thead>\n",
       "    <tr style=\"text-align: right;\">\n",
       "      <th></th>\n",
       "      <th>Shoes_Brand</th>\n",
       "      <th>Shoes_Desc</th>\n",
       "      <th>Shoes_price</th>\n",
       "    </tr>\n",
       "  </thead>\n",
       "  <tbody>\n",
       "    <tr>\n",
       "      <th>0</th>\n",
       "      <td>ASICS</td>\n",
       "      <td>Men GEL-KAYANO 27 Shoes</td>\n",
       "      <td>Rs. 10499</td>\n",
       "    </tr>\n",
       "    <tr>\n",
       "      <th>1</th>\n",
       "      <td>Puma</td>\n",
       "      <td>Men Deviate Nitro Running Shoe</td>\n",
       "      <td>Rs. 8249</td>\n",
       "    </tr>\n",
       "    <tr>\n",
       "      <th>2</th>\n",
       "      <td>Puma</td>\n",
       "      <td>Men Running Shoes</td>\n",
       "      <td>Rs. 6499</td>\n",
       "    </tr>\n",
       "    <tr>\n",
       "      <th>3</th>\n",
       "      <td>Hush Puppies</td>\n",
       "      <td>Men Solid Leather Formal Slip-Ons</td>\n",
       "      <td>Rs. 8099</td>\n",
       "    </tr>\n",
       "    <tr>\n",
       "      <th>4</th>\n",
       "      <td>ADIDAS</td>\n",
       "      <td>Women Running Shoes</td>\n",
       "      <td>Rs. 6299</td>\n",
       "    </tr>\n",
       "  </tbody>\n",
       "</table>\n",
       "</div>"
      ],
      "text/plain": [
       "    Shoes_Brand                         Shoes_Desc Shoes_price\n",
       "0         ASICS            Men GEL-KAYANO 27 Shoes   Rs. 10499\n",
       "1          Puma     Men Deviate Nitro Running Shoe    Rs. 8249\n",
       "2          Puma                  Men Running Shoes    Rs. 6499\n",
       "3  Hush Puppies  Men Solid Leather Formal Slip-Ons    Rs. 8099\n",
       "4        ADIDAS                Women Running Shoes    Rs. 6299"
      ]
     },
     "execution_count": 90,
     "metadata": {},
     "output_type": "execute_result"
    }
   ],
   "source": [
    "myntra = {'Shoes_Brand' : brr , 'Shoes_Desc' : sd , 'Shoes_price' : sp}\n",
    "df = pd.DataFrame.from_dict(myntra,orient = 'index')\n",
    "df = df.transpose()\n",
    "df.head()"
   ]
  },
  {
   "cell_type": "code",
   "execution_count": null,
   "id": "6e193be3",
   "metadata": {},
   "outputs": [],
   "source": [
    "# 8) programme to scrape Laptop data from Amazon.in"
   ]
  },
  {
   "cell_type": "code",
   "execution_count": 91,
   "id": "2f8a3f6f",
   "metadata": {},
   "outputs": [
    {
     "name": "stderr",
     "output_type": "stream",
     "text": [
      "<ipython-input-91-2e5b3dc4a2f5>:1: DeprecationWarning: executable_path has been deprecated, please pass in a Service object\n",
      "  driver = webdriver.Chrome(r\"C:\\\\Users\\\\adil2\\\\Downloads\\\\chromedriver_win32\\\\chromedriver.exe\")\n"
     ]
    }
   ],
   "source": [
    "driver = webdriver.Chrome(r\"C:\\\\Users\\\\adil2\\\\Downloads\\\\chromedriver_win32\\\\chromedriver.exe\")"
   ]
  },
  {
   "cell_type": "code",
   "execution_count": 92,
   "id": "6b5d817c",
   "metadata": {},
   "outputs": [],
   "source": [
    "url = 'https://www.amazon.in/'\n",
    "driver.get(url)"
   ]
  },
  {
   "cell_type": "code",
   "execution_count": null,
   "id": "b777a73c",
   "metadata": {},
   "outputs": [],
   "source": [
    "la = driver.find_elements_by_xpath('//div[@class = \"a-checkbox a-checkbox-fancy s-navigation-checkbox aok-float-left\"]')\n",
    "la.send_keys('Intel core i7')\n",
    "la = la = driver.find_elements_by_xpath('//div[@class = \"a-checkbox a-checkbox-fancy s-navigation-checkbox aok-float-left\"]')\n",
    "la.send_keys('Intel core i9')"
   ]
  },
  {
   "cell_type": "code",
   "execution_count": 93,
   "id": "08d230f3",
   "metadata": {},
   "outputs": [],
   "source": [
    "tit = []\n",
    "pric1 = []"
   ]
  },
  {
   "cell_type": "code",
   "execution_count": 94,
   "id": "133aaef3",
   "metadata": {},
   "outputs": [
    {
     "name": "stderr",
     "output_type": "stream",
     "text": [
      "<ipython-input-94-b4790408fc68>:1: DeprecationWarning: find_elements_by_* commands are deprecated. Please use find_elements() instead\n",
      "  tit1 = driver.find_elements_by_xpath('//a[@class = \"a-link-normal a-text-normal\"]')\n"
     ]
    },
    {
     "data": {
      "text/plain": [
       "['HP Pavilion 13, 11th Gen Intel Core i7, 13.3-inch(33.8 cm) FHD,IPS, Micro-Edge Laptop (16GB RAM/ 1TB SSD/ Win 10/ FPR/Audio B&O/Alexa Built-in/MS Office/ Ceramic White/ 1.24 Kg) -13-bb0078TU',\n",
       " 'Acer Swift 5 Intel i7 11th Gen 14 inches Ultra Thin and Light Business Laptop (16GB RAM/1TB SSD/Windows 10 Home/Iris Xe Graphics 5 Full HD IPS Display with Touchscreen, Mist Green, 1.05 kg) SF514-55TA',\n",
       " 'HP Pavilion Gaming(2021) 10th Gen Intel Core i7 15.6-inch(39.6 cm) FHD IPS 144Hz Gaming Laptop (16GB/512GB SSD + 32GB Intel Optane/NVIDIA GTX 1650Ti 4GB/Win 10/MS Office/Shadow Black), 15-DK1511TX',\n",
       " 'Lenovo ThinkBook Yoga 14s Intel Core i7 11th Gen 14\"(35.56cm) FHD IPS 300 nits 100% sRGB Dolby Vision 2-in-1 Touchscreen Laptop (16GB RAM/512GB SSD/Windows 10/MS Office/Active Pen/1.50 kg) 20WEA01EIH',\n",
       " 'Lenovo ThinkBook 15 Intel 11th Gen Core i7 15.6\"(39.62 cm)FHD IPS 300 nits Antiglare 100% sRGB Thin & Light Laptop(16GB/1TB HDD+128GB SSD/Windows 10/MS Office/3 Yr Onsite Warranty/1.7 Kg) 20VEA0HBIH',\n",
       " 'Lenovo Legion 5 11th Gen Intel Core i7 15.6\"(39.62cm) FHD IPS Gaming Laptop (16GB/512GB SSD/NVIDIA RTX 3050 4GB/120Hz Refresh Rate/Windows 10/MS Office/Backlit Keyboard/Phantom Blue/2.4Kg), 82JK007WIN',\n",
       " 'HP Pavilion (2021) Intel 11th Gen Core i7 14 inches FHD Screen Thin & Light Laptop, 16 GB RAM, 1TB SSD, Iris Xe Graphics, Windows 10, MS Office, Backlit Keyboard, 1.41kg (14-dv0058TU)',\n",
       " 'ASUS ZenBook 14e (2021), 14.0-inch (35.56 cms) FHD Intel Core i7-1165G7 11th Gen, Thin and Light Laptop (16GB/1TB SSD/Office 2019/Windows 10/2GB NVIDIA MX450 Graphics/Grey/1.29 kg), UX435EG-KK701TS',\n",
       " 'MSI GF75 Intel Core i7-10750H, 17.3 inches FHD IPS-Level 144Hz Panel Thin Gaming Laptop (8GB/512GB NVMe SSD/Windows 10 Home/NVIDIA GTX1650 4GB GDDR6/Black/2.2Kg), 10SC-087IN (9S7-17F612-087)',\n",
       " 'Lenovo IdeaPad Gaming 3 11th Gen Intel Core i7-11370H 15.6\" (39.63cm) FHD IPS Gaming Laptop (8GB/512GB SSD/Windows 10/NVIDIA RTX 3050 4GB/120Hz Refresh Display/Shadow Black/2.25Kg), 82K1004EIN']"
      ]
     },
     "execution_count": 94,
     "metadata": {},
     "output_type": "execute_result"
    }
   ],
   "source": [
    "tit1 = driver.find_elements_by_xpath('//a[@class = \"a-link-normal a-text-normal\"]')\n",
    "for data in tit1:\n",
    "    tit2 = data.text\n",
    "    tit.append(tit2)\n",
    "tit[0:10]"
   ]
  },
  {
   "cell_type": "code",
   "execution_count": 95,
   "id": "53ac8473",
   "metadata": {},
   "outputs": [
    {
     "name": "stderr",
     "output_type": "stream",
     "text": [
      "<ipython-input-95-d9aa7315fbc9>:1: DeprecationWarning: find_elements_by_* commands are deprecated. Please use find_elements() instead\n",
      "  pri1 = driver.find_elements_by_xpath('//span[@class = \"a-price-whole\"]')\n"
     ]
    },
    {
     "data": {
      "text/plain": [
       "['87,490',\n",
       " '91,990',\n",
       " '86,990',\n",
       " '89,990',\n",
       " '85,990',\n",
       " '1,00,990',\n",
       " '84,990',\n",
       " '1,28,890',\n",
       " '73,990',\n",
       " '82,990']"
      ]
     },
     "execution_count": 95,
     "metadata": {},
     "output_type": "execute_result"
    }
   ],
   "source": [
    "pri1 = driver.find_elements_by_xpath('//span[@class = \"a-price-whole\"]')\n",
    "for data in pri1:\n",
    "    pri2 = data.text\n",
    "    pric1.append(pri2)\n",
    "pric1[0:10]"
   ]
  },
  {
   "cell_type": "code",
   "execution_count": 96,
   "id": "79a1b9b2",
   "metadata": {},
   "outputs": [
    {
     "data": {
      "text/html": [
       "<div>\n",
       "<style scoped>\n",
       "    .dataframe tbody tr th:only-of-type {\n",
       "        vertical-align: middle;\n",
       "    }\n",
       "\n",
       "    .dataframe tbody tr th {\n",
       "        vertical-align: top;\n",
       "    }\n",
       "\n",
       "    .dataframe thead th {\n",
       "        text-align: right;\n",
       "    }\n",
       "</style>\n",
       "<table border=\"1\" class=\"dataframe\">\n",
       "  <thead>\n",
       "    <tr style=\"text-align: right;\">\n",
       "      <th></th>\n",
       "      <th>Product_title</th>\n",
       "      <th>Product_Price</th>\n",
       "    </tr>\n",
       "  </thead>\n",
       "  <tbody>\n",
       "    <tr>\n",
       "      <th>0</th>\n",
       "      <td>HP Pavilion 13, 11th Gen Intel Core i7, 13.3-i...</td>\n",
       "      <td>87,490</td>\n",
       "    </tr>\n",
       "    <tr>\n",
       "      <th>1</th>\n",
       "      <td>Acer Swift 5 Intel i7 11th Gen 14 inches Ultra...</td>\n",
       "      <td>91,990</td>\n",
       "    </tr>\n",
       "    <tr>\n",
       "      <th>2</th>\n",
       "      <td>HP Pavilion Gaming(2021) 10th Gen Intel Core i...</td>\n",
       "      <td>86,990</td>\n",
       "    </tr>\n",
       "    <tr>\n",
       "      <th>3</th>\n",
       "      <td>Lenovo ThinkBook Yoga 14s Intel Core i7 11th G...</td>\n",
       "      <td>89,990</td>\n",
       "    </tr>\n",
       "    <tr>\n",
       "      <th>4</th>\n",
       "      <td>Lenovo ThinkBook 15 Intel 11th Gen Core i7 15....</td>\n",
       "      <td>85,990</td>\n",
       "    </tr>\n",
       "    <tr>\n",
       "      <th>5</th>\n",
       "      <td>Lenovo Legion 5 11th Gen Intel Core i7 15.6\"(3...</td>\n",
       "      <td>1,00,990</td>\n",
       "    </tr>\n",
       "    <tr>\n",
       "      <th>6</th>\n",
       "      <td>HP Pavilion (2021) Intel 11th Gen Core i7 14 i...</td>\n",
       "      <td>84,990</td>\n",
       "    </tr>\n",
       "    <tr>\n",
       "      <th>7</th>\n",
       "      <td>ASUS ZenBook 14e (2021), 14.0-inch (35.56 cms)...</td>\n",
       "      <td>1,28,890</td>\n",
       "    </tr>\n",
       "    <tr>\n",
       "      <th>8</th>\n",
       "      <td>MSI GF75 Intel Core i7-10750H, 17.3 inches FHD...</td>\n",
       "      <td>73,990</td>\n",
       "    </tr>\n",
       "    <tr>\n",
       "      <th>9</th>\n",
       "      <td>Lenovo IdeaPad Gaming 3 11th Gen Intel Core i7...</td>\n",
       "      <td>82,990</td>\n",
       "    </tr>\n",
       "  </tbody>\n",
       "</table>\n",
       "</div>"
      ],
      "text/plain": [
       "                                       Product_title Product_Price\n",
       "0  HP Pavilion 13, 11th Gen Intel Core i7, 13.3-i...        87,490\n",
       "1  Acer Swift 5 Intel i7 11th Gen 14 inches Ultra...        91,990\n",
       "2  HP Pavilion Gaming(2021) 10th Gen Intel Core i...        86,990\n",
       "3  Lenovo ThinkBook Yoga 14s Intel Core i7 11th G...        89,990\n",
       "4  Lenovo ThinkBook 15 Intel 11th Gen Core i7 15....        85,990\n",
       "5  Lenovo Legion 5 11th Gen Intel Core i7 15.6\"(3...      1,00,990\n",
       "6  HP Pavilion (2021) Intel 11th Gen Core i7 14 i...        84,990\n",
       "7  ASUS ZenBook 14e (2021), 14.0-inch (35.56 cms)...      1,28,890\n",
       "8  MSI GF75 Intel Core i7-10750H, 17.3 inches FHD...        73,990\n",
       "9  Lenovo IdeaPad Gaming 3 11th Gen Intel Core i7...        82,990"
      ]
     },
     "execution_count": 96,
     "metadata": {},
     "output_type": "execute_result"
    }
   ],
   "source": [
    "df = pd.DataFrame({'Product_title' : tit[0:10], 'Product_Price' : pric1[0:10]})\n",
    "df"
   ]
  },
  {
   "cell_type": "code",
   "execution_count": null,
   "id": "2cad9b8e",
   "metadata": {},
   "outputs": [],
   "source": [
    "# 9)programme to scrape data for 10 Data scientist jobs from ambitious box"
   ]
  },
  {
   "cell_type": "code",
   "execution_count": 97,
   "id": "e74a79e1",
   "metadata": {},
   "outputs": [
    {
     "name": "stderr",
     "output_type": "stream",
     "text": [
      "<ipython-input-97-2e5b3dc4a2f5>:1: DeprecationWarning: executable_path has been deprecated, please pass in a Service object\n",
      "  driver = webdriver.Chrome(r\"C:\\\\Users\\\\adil2\\\\Downloads\\\\chromedriver_win32\\\\chromedriver.exe\")\n"
     ]
    }
   ],
   "source": [
    "driver = webdriver.Chrome(r\"C:\\\\Users\\\\adil2\\\\Downloads\\\\chromedriver_win32\\\\chromedriver.exe\")"
   ]
  },
  {
   "cell_type": "code",
   "execution_count": 98,
   "id": "28619923",
   "metadata": {},
   "outputs": [],
   "source": [
    "url = 'https://www.ambitionbox.com/'\n",
    "driver.get(url)"
   ]
  },
  {
   "cell_type": "code",
   "execution_count": 99,
   "id": "22655715",
   "metadata": {},
   "outputs": [],
   "source": [
    "c_name = []\n",
    "post = []\n",
    "c_rating = []"
   ]
  },
  {
   "cell_type": "code",
   "execution_count": 100,
   "id": "2ffbc7ef",
   "metadata": {},
   "outputs": [
    {
     "name": "stderr",
     "output_type": "stream",
     "text": [
      "<ipython-input-100-b9387cc9c5f9>:1: DeprecationWarning: find_elements_by_* commands are deprecated. Please use find_elements() instead\n",
      "  c1 = driver.find_elements_by_xpath('//p[@class = \"company body-medium\"]')\n"
     ]
    },
    {
     "data": {
      "text/plain": [
       "['LG Electronics India Pvt. Ltd.',\n",
       " 'GENPACT India Private Limited',\n",
       " 'GENPACT India Private Limited',\n",
       " 'NTT Data Business Solutions Pvt Ltd',\n",
       " 'GENPACT India Private Limited',\n",
       " 'Paytm',\n",
       " 'GI Group',\n",
       " 'GI Group',\n",
       " 'GI Group',\n",
       " 'Steria India Ltd']"
      ]
     },
     "execution_count": 100,
     "metadata": {},
     "output_type": "execute_result"
    }
   ],
   "source": [
    "c1 = driver.find_elements_by_xpath('//p[@class = \"company body-medium\"]')\n",
    "for data in c1:\n",
    "    c2 = data.text\n",
    "    c_name.append(c2)\n",
    "c_name"
   ]
  },
  {
   "cell_type": "code",
   "execution_count": 101,
   "id": "33bf14bc",
   "metadata": {},
   "outputs": [
    {
     "name": "stderr",
     "output_type": "stream",
     "text": [
      "<ipython-input-101-eeb47d675dc4>:1: DeprecationWarning: find_elements_by_* commands are deprecated. Please use find_elements() instead\n",
      "  p_d = driver.find_elements_by_xpath('//span[@class = \"body-small-l\"]')\n"
     ]
    },
    {
     "data": {
      "text/plain": [
       "['10d ago',\n",
       " '17d ago',\n",
       " '17d ago',\n",
       " '18d ago',\n",
       " '19d ago',\n",
       " '4d ago',\n",
       " '4d ago',\n",
       " '4d ago',\n",
       " '4d ago',\n",
       " '1mon ago']"
      ]
     },
     "execution_count": 101,
     "metadata": {},
     "output_type": "execute_result"
    }
   ],
   "source": [
    "p_d = driver.find_elements_by_xpath('//span[@class = \"body-small-l\"]')\n",
    "for data in p_d:\n",
    "    p_d1 = data.text\n",
    "    post.append(p_d1)\n",
    "post[0:20:2]"
   ]
  },
  {
   "cell_type": "code",
   "execution_count": 102,
   "id": "3f3e0988",
   "metadata": {
    "scrolled": true
   },
   "outputs": [
    {
     "name": "stderr",
     "output_type": "stream",
     "text": [
      "<ipython-input-102-fa1ae213483d>:1: DeprecationWarning: find_elements_by_* commands are deprecated. Please use find_elements() instead\n",
      "  c_r = driver.find_elements_by_xpath('//span[@class = \"body-small\"]')\n"
     ]
    },
    {
     "data": {
      "text/plain": [
       "['4.1', '4.0', '4.0', '3.8', '4.0', '3.7', '4.0', '4.0', '4.0', '4.1']"
      ]
     },
     "execution_count": 102,
     "metadata": {},
     "output_type": "execute_result"
    }
   ],
   "source": [
    "c_r = driver.find_elements_by_xpath('//span[@class = \"body-small\"]')\n",
    "for data in c_r:\n",
    "    cr1 = data.text\n",
    "    c_rating.append(cr1)\n",
    "c_rating"
   ]
  },
  {
   "cell_type": "code",
   "execution_count": 103,
   "id": "2e18d28b",
   "metadata": {},
   "outputs": [
    {
     "data": {
      "text/html": [
       "<div>\n",
       "<style scoped>\n",
       "    .dataframe tbody tr th:only-of-type {\n",
       "        vertical-align: middle;\n",
       "    }\n",
       "\n",
       "    .dataframe tbody tr th {\n",
       "        vertical-align: top;\n",
       "    }\n",
       "\n",
       "    .dataframe thead th {\n",
       "        text-align: right;\n",
       "    }\n",
       "</style>\n",
       "<table border=\"1\" class=\"dataframe\">\n",
       "  <thead>\n",
       "    <tr style=\"text-align: right;\">\n",
       "      <th></th>\n",
       "      <th>Company_Name</th>\n",
       "      <th>Days_ago</th>\n",
       "      <th>Company_rating</th>\n",
       "    </tr>\n",
       "  </thead>\n",
       "  <tbody>\n",
       "    <tr>\n",
       "      <th>0</th>\n",
       "      <td>LG Electronics India Pvt. Ltd.</td>\n",
       "      <td>10d ago</td>\n",
       "      <td>4.1</td>\n",
       "    </tr>\n",
       "    <tr>\n",
       "      <th>1</th>\n",
       "      <td>GENPACT India Private Limited</td>\n",
       "      <td>17d ago</td>\n",
       "      <td>4.0</td>\n",
       "    </tr>\n",
       "    <tr>\n",
       "      <th>2</th>\n",
       "      <td>GENPACT India Private Limited</td>\n",
       "      <td>17d ago</td>\n",
       "      <td>4.0</td>\n",
       "    </tr>\n",
       "    <tr>\n",
       "      <th>3</th>\n",
       "      <td>NTT Data Business Solutions Pvt Ltd</td>\n",
       "      <td>18d ago</td>\n",
       "      <td>3.8</td>\n",
       "    </tr>\n",
       "    <tr>\n",
       "      <th>4</th>\n",
       "      <td>GENPACT India Private Limited</td>\n",
       "      <td>19d ago</td>\n",
       "      <td>4.0</td>\n",
       "    </tr>\n",
       "    <tr>\n",
       "      <th>5</th>\n",
       "      <td>Paytm</td>\n",
       "      <td>4d ago</td>\n",
       "      <td>3.7</td>\n",
       "    </tr>\n",
       "    <tr>\n",
       "      <th>6</th>\n",
       "      <td>GI Group</td>\n",
       "      <td>4d ago</td>\n",
       "      <td>4.0</td>\n",
       "    </tr>\n",
       "    <tr>\n",
       "      <th>7</th>\n",
       "      <td>GI Group</td>\n",
       "      <td>4d ago</td>\n",
       "      <td>4.0</td>\n",
       "    </tr>\n",
       "    <tr>\n",
       "      <th>8</th>\n",
       "      <td>GI Group</td>\n",
       "      <td>4d ago</td>\n",
       "      <td>4.0</td>\n",
       "    </tr>\n",
       "    <tr>\n",
       "      <th>9</th>\n",
       "      <td>Steria India Ltd</td>\n",
       "      <td>1mon ago</td>\n",
       "      <td>4.1</td>\n",
       "    </tr>\n",
       "  </tbody>\n",
       "</table>\n",
       "</div>"
      ],
      "text/plain": [
       "                          Company_Name  Days_ago Company_rating\n",
       "0       LG Electronics India Pvt. Ltd.   10d ago            4.1\n",
       "1        GENPACT India Private Limited   17d ago            4.0\n",
       "2        GENPACT India Private Limited   17d ago            4.0\n",
       "3  NTT Data Business Solutions Pvt Ltd   18d ago            3.8\n",
       "4        GENPACT India Private Limited   19d ago            4.0\n",
       "5                                Paytm    4d ago            3.7\n",
       "6                             GI Group    4d ago            4.0\n",
       "7                             GI Group    4d ago            4.0\n",
       "8                             GI Group    4d ago            4.0\n",
       "9                     Steria India Ltd  1mon ago            4.1"
      ]
     },
     "execution_count": 103,
     "metadata": {},
     "output_type": "execute_result"
    }
   ],
   "source": [
    "df = pd.DataFrame({'Company_Name' : c_name , 'Days_ago' : post[0:20:2] , 'Company_rating' : c_rating})\n",
    "df"
   ]
  },
  {
   "cell_type": "code",
   "execution_count": null,
   "id": "b791aa14",
   "metadata": {},
   "outputs": [],
   "source": [
    "# 10) programme to scrape salary of Data scientist designation from ambitionbox.com"
   ]
  },
  {
   "cell_type": "code",
   "execution_count": 104,
   "id": "31be60e6",
   "metadata": {},
   "outputs": [
    {
     "name": "stderr",
     "output_type": "stream",
     "text": [
      "<ipython-input-104-2e5b3dc4a2f5>:1: DeprecationWarning: executable_path has been deprecated, please pass in a Service object\n",
      "  driver = webdriver.Chrome(r\"C:\\\\Users\\\\adil2\\\\Downloads\\\\chromedriver_win32\\\\chromedriver.exe\")\n"
     ]
    }
   ],
   "source": [
    "driver = webdriver.Chrome(r\"C:\\\\Users\\\\adil2\\\\Downloads\\\\chromedriver_win32\\\\chromedriver.exe\")"
   ]
  },
  {
   "cell_type": "code",
   "execution_count": 105,
   "id": "4f1f71b9",
   "metadata": {},
   "outputs": [],
   "source": [
    "url = 'https://www.ambitionbox.com/'\n",
    "driver.get(url)"
   ]
  },
  {
   "cell_type": "code",
   "execution_count": 106,
   "id": "e1f3944b",
   "metadata": {},
   "outputs": [],
   "source": [
    "c_na = []\n",
    "total_s = []\n",
    "Aver = []\n",
    "min_s = []\n",
    "max_s = []\n",
    "exp_r = []"
   ]
  },
  {
   "cell_type": "code",
   "execution_count": 107,
   "id": "69a4d738",
   "metadata": {},
   "outputs": [
    {
     "name": "stderr",
     "output_type": "stream",
     "text": [
      "<ipython-input-107-92e3c12c427d>:1: DeprecationWarning: find_elements_by_* commands are deprecated. Please use find_elements() instead\n",
      "  c_na1 = driver.find_elements_by_xpath('//div[@class =\"name\"]')\n"
     ]
    },
    {
     "data": {
      "text/plain": [
       "['Ab Inbevbased on 20 salaries',\n",
       " 'ZSbased on 12 salaries',\n",
       " 'Optumbased on 23 salaries',\n",
       " 'Fractal Analyticsbased on 66 salaries',\n",
       " 'UnitedHealthbased on 47 salaries',\n",
       " 'Tiger Analyticsbased on 26 salaries',\n",
       " 'Verizonbased on 14 salaries',\n",
       " 'Ganit Business Solutionsbased on 13 salaries',\n",
       " 'Ericssonbased on 42 salaries',\n",
       " 'Deloittebased on 49 salaries']"
      ]
     },
     "execution_count": 107,
     "metadata": {},
     "output_type": "execute_result"
    }
   ],
   "source": [
    "c_na1 = driver.find_elements_by_xpath('//div[@class =\"name\"]')\n",
    "for data in c_na1:\n",
    "    c_na2 = data.text.replace('\\n','')\n",
    "    c_na.append(c_na2)\n",
    "c_na"
   ]
  },
  {
   "cell_type": "code",
   "execution_count": 108,
   "id": "332ef5d0",
   "metadata": {},
   "outputs": [
    {
     "name": "stderr",
     "output_type": "stream",
     "text": [
      "<ipython-input-108-5e6749439d8f>:1: DeprecationWarning: find_elements_by_* commands are deprecated. Please use find_elements() instead\n",
      "  t_s = driver.find_elements_by_xpath('//div[@class = \"name\"]')\n"
     ]
    },
    {
     "data": {
      "text/plain": [
       "['Ab Inbevbased on 20 salaries',\n",
       " 'ZSbased on 12 salaries',\n",
       " 'Optumbased on 23 salaries',\n",
       " 'Fractal Analyticsbased on 66 salaries',\n",
       " 'UnitedHealthbased on 47 salaries',\n",
       " 'Tiger Analyticsbased on 26 salaries',\n",
       " 'Verizonbased on 14 salaries',\n",
       " 'Ganit Business Solutionsbased on 13 salaries',\n",
       " 'Ericssonbased on 42 salaries',\n",
       " 'Deloittebased on 49 salaries']"
      ]
     },
     "execution_count": 108,
     "metadata": {},
     "output_type": "execute_result"
    }
   ],
   "source": [
    "t_s = driver.find_elements_by_xpath('//div[@class = \"name\"]')\n",
    "for data in t_s:\n",
    "    ts1 = data.text.replace('\\n','')\n",
    "    total_s.append(ts1)\n",
    "total_s"
   ]
  },
  {
   "cell_type": "code",
   "execution_count": 109,
   "id": "ad39eb33",
   "metadata": {},
   "outputs": [
    {
     "name": "stderr",
     "output_type": "stream",
     "text": [
      "<ipython-input-109-952edacc2e3b>:1: DeprecationWarning: find_elements_by_* commands are deprecated. Please use find_elements() instead\n",
      "  av1 = driver.find_elements_by_xpath('//div[@class = \"average-indicator-wrapper\"]')\n"
     ]
    },
    {
     "data": {
      "text/plain": [
       "['₹ 19.0L',\n",
       " '₹ 15.3L',\n",
       " '₹ 15.0L',\n",
       " '₹ 15.0L',\n",
       " '₹ 13.5L',\n",
       " '₹ 13.5L',\n",
       " '₹ 12.7L',\n",
       " '₹ 12.4L',\n",
       " '₹ 11.7L',\n",
       " '₹ 11.2L']"
      ]
     },
     "execution_count": 109,
     "metadata": {},
     "output_type": "execute_result"
    }
   ],
   "source": [
    "av1 = driver.find_elements_by_xpath('//div[@class = \"average-indicator-wrapper\"]')\n",
    "for data in av1:\n",
    "    av2 = data.text\n",
    "    Aver.append(av2)\n",
    "Aver"
   ]
  },
  {
   "cell_type": "code",
   "execution_count": 110,
   "id": "855e67ca",
   "metadata": {},
   "outputs": [
    {
     "name": "stderr",
     "output_type": "stream",
     "text": [
      "<ipython-input-110-07d815e19a2b>:1: DeprecationWarning: find_elements_by_* commands are deprecated. Please use find_elements() instead\n",
      "  mi = driver.find_elements_by_xpath('//div[@class = \"value body-medium\"]')\n"
     ]
    },
    {
     "data": {
      "text/plain": [
       "['₹ 15.0L',\n",
       " '₹ 23.0L',\n",
       " '₹ 9.8L',\n",
       " '₹ 19.5L',\n",
       " '₹ 11.0L',\n",
       " '₹ 21.3L',\n",
       " '₹ 9.5L',\n",
       " '₹ 22.0L',\n",
       " '₹ 7.2L',\n",
       " '₹ 20.5L']"
      ]
     },
     "execution_count": 110,
     "metadata": {},
     "output_type": "execute_result"
    }
   ],
   "source": [
    "mi = driver.find_elements_by_xpath('//div[@class = \"value body-medium\"]')\n",
    "for data in mi:\n",
    "    mi1 = data.text\n",
    "    min_s.append(mi1)\n",
    "min_s[0:10]"
   ]
  },
  {
   "cell_type": "code",
   "execution_count": 111,
   "id": "9e502330",
   "metadata": {
    "scrolled": true
   },
   "outputs": [
    {
     "name": "stderr",
     "output_type": "stream",
     "text": [
      "<ipython-input-111-47c0f7f6da27>:1: DeprecationWarning: find_elements_by_* commands are deprecated. Please use find_elements() instead\n",
      "  ma = driver.find_elements_by_xpath('//div[@class = \"value body-medium\"]')\n"
     ]
    },
    {
     "data": {
      "text/plain": [
       "['₹ 15.0L',\n",
       " '₹ 23.0L',\n",
       " '₹ 9.8L',\n",
       " '₹ 19.5L',\n",
       " '₹ 11.0L',\n",
       " '₹ 21.3L',\n",
       " '₹ 9.5L',\n",
       " '₹ 22.0L',\n",
       " '₹ 7.2L',\n",
       " '₹ 20.5L']"
      ]
     },
     "execution_count": 111,
     "metadata": {},
     "output_type": "execute_result"
    }
   ],
   "source": [
    "ma = driver.find_elements_by_xpath('//div[@class = \"value body-medium\"]')\n",
    "for data in ma:\n",
    "    ma1 = data.text\n",
    "    max_s.append(ma1)\n",
    "max_s[0:10]"
   ]
  },
  {
   "cell_type": "code",
   "execution_count": 112,
   "id": "f9701a55",
   "metadata": {},
   "outputs": [
    {
     "name": "stderr",
     "output_type": "stream",
     "text": [
      "<ipython-input-112-eb9fb839f962>:1: DeprecationWarning: find_elements_by_* commands are deprecated. Please use find_elements() instead\n",
      "  ex1 = driver.find_elements_by_xpath('//div[@class = \"salaries sbold-list-header\"]')\n"
     ]
    },
    {
     "data": {
      "text/plain": [
       "['Data Scientist . 3-4 yrs exp',\n",
       " 'Data Scientist . 2 yrs exp',\n",
       " 'Data Scientist . 3-4 yrs exp',\n",
       " 'Data Scientist . 2-4 yrs exp',\n",
       " 'Data Scientist . 2-4 yrs exp',\n",
       " 'Data Scientist . 3-4 yrs exp',\n",
       " 'Data Scientist . 4 yrs exp',\n",
       " 'Data Scientist . 4 yrs exp',\n",
       " 'Data Scientist . 3-4 yrs exp',\n",
       " 'Data Scientist . 2-4 yrs exp']"
      ]
     },
     "execution_count": 112,
     "metadata": {},
     "output_type": "execute_result"
    }
   ],
   "source": [
    "ex1 = driver.find_elements_by_xpath('//div[@class = \"salaries sbold-list-header\"]')\n",
    "for data in ex1:\n",
    "    ex2 = data.text.replace('\\n','')\n",
    "    exp_r.append(ex2)\n",
    "exp_r"
   ]
  },
  {
   "cell_type": "code",
   "execution_count": 113,
   "id": "33733a6e",
   "metadata": {},
   "outputs": [
    {
     "data": {
      "text/html": [
       "<div>\n",
       "<style scoped>\n",
       "    .dataframe tbody tr th:only-of-type {\n",
       "        vertical-align: middle;\n",
       "    }\n",
       "\n",
       "    .dataframe tbody tr th {\n",
       "        vertical-align: top;\n",
       "    }\n",
       "\n",
       "    .dataframe thead th {\n",
       "        text-align: right;\n",
       "    }\n",
       "</style>\n",
       "<table border=\"1\" class=\"dataframe\">\n",
       "  <thead>\n",
       "    <tr style=\"text-align: right;\">\n",
       "      <th></th>\n",
       "      <th>Company_Name</th>\n",
       "      <th>Total_salary_record</th>\n",
       "      <th>Average_salary</th>\n",
       "      <th>Minimum_salary</th>\n",
       "      <th>Maximum_salary</th>\n",
       "      <th>Experience_Required</th>\n",
       "    </tr>\n",
       "  </thead>\n",
       "  <tbody>\n",
       "    <tr>\n",
       "      <th>0</th>\n",
       "      <td>Ab Inbevbased on 20 salaries</td>\n",
       "      <td>Ab Inbevbased on 20 salaries</td>\n",
       "      <td>₹ 19.0L</td>\n",
       "      <td>₹ 15.0L</td>\n",
       "      <td>₹ 15.0L</td>\n",
       "      <td>Data Scientist . 3-4 yrs exp</td>\n",
       "    </tr>\n",
       "    <tr>\n",
       "      <th>1</th>\n",
       "      <td>ZSbased on 12 salaries</td>\n",
       "      <td>ZSbased on 12 salaries</td>\n",
       "      <td>₹ 15.3L</td>\n",
       "      <td>₹ 23.0L</td>\n",
       "      <td>₹ 23.0L</td>\n",
       "      <td>Data Scientist . 2 yrs exp</td>\n",
       "    </tr>\n",
       "    <tr>\n",
       "      <th>2</th>\n",
       "      <td>Optumbased on 23 salaries</td>\n",
       "      <td>Optumbased on 23 salaries</td>\n",
       "      <td>₹ 15.0L</td>\n",
       "      <td>₹ 9.8L</td>\n",
       "      <td>₹ 9.8L</td>\n",
       "      <td>Data Scientist . 3-4 yrs exp</td>\n",
       "    </tr>\n",
       "    <tr>\n",
       "      <th>3</th>\n",
       "      <td>Fractal Analyticsbased on 66 salaries</td>\n",
       "      <td>Fractal Analyticsbased on 66 salaries</td>\n",
       "      <td>₹ 15.0L</td>\n",
       "      <td>₹ 19.5L</td>\n",
       "      <td>₹ 19.5L</td>\n",
       "      <td>Data Scientist . 2-4 yrs exp</td>\n",
       "    </tr>\n",
       "    <tr>\n",
       "      <th>4</th>\n",
       "      <td>UnitedHealthbased on 47 salaries</td>\n",
       "      <td>UnitedHealthbased on 47 salaries</td>\n",
       "      <td>₹ 13.5L</td>\n",
       "      <td>₹ 11.0L</td>\n",
       "      <td>₹ 11.0L</td>\n",
       "      <td>Data Scientist . 2-4 yrs exp</td>\n",
       "    </tr>\n",
       "    <tr>\n",
       "      <th>5</th>\n",
       "      <td>Tiger Analyticsbased on 26 salaries</td>\n",
       "      <td>Tiger Analyticsbased on 26 salaries</td>\n",
       "      <td>₹ 13.5L</td>\n",
       "      <td>₹ 21.3L</td>\n",
       "      <td>₹ 21.3L</td>\n",
       "      <td>Data Scientist . 3-4 yrs exp</td>\n",
       "    </tr>\n",
       "    <tr>\n",
       "      <th>6</th>\n",
       "      <td>Verizonbased on 14 salaries</td>\n",
       "      <td>Verizonbased on 14 salaries</td>\n",
       "      <td>₹ 12.7L</td>\n",
       "      <td>₹ 9.5L</td>\n",
       "      <td>₹ 9.5L</td>\n",
       "      <td>Data Scientist . 4 yrs exp</td>\n",
       "    </tr>\n",
       "    <tr>\n",
       "      <th>7</th>\n",
       "      <td>Ganit Business Solutionsbased on 13 salaries</td>\n",
       "      <td>Ganit Business Solutionsbased on 13 salaries</td>\n",
       "      <td>₹ 12.4L</td>\n",
       "      <td>₹ 22.0L</td>\n",
       "      <td>₹ 22.0L</td>\n",
       "      <td>Data Scientist . 4 yrs exp</td>\n",
       "    </tr>\n",
       "    <tr>\n",
       "      <th>8</th>\n",
       "      <td>Ericssonbased on 42 salaries</td>\n",
       "      <td>Ericssonbased on 42 salaries</td>\n",
       "      <td>₹ 11.7L</td>\n",
       "      <td>₹ 7.2L</td>\n",
       "      <td>₹ 7.2L</td>\n",
       "      <td>Data Scientist . 3-4 yrs exp</td>\n",
       "    </tr>\n",
       "    <tr>\n",
       "      <th>9</th>\n",
       "      <td>Deloittebased on 49 salaries</td>\n",
       "      <td>Deloittebased on 49 salaries</td>\n",
       "      <td>₹ 11.2L</td>\n",
       "      <td>₹ 20.5L</td>\n",
       "      <td>₹ 20.5L</td>\n",
       "      <td>Data Scientist . 2-4 yrs exp</td>\n",
       "    </tr>\n",
       "  </tbody>\n",
       "</table>\n",
       "</div>"
      ],
      "text/plain": [
       "                                   Company_Name  \\\n",
       "0                  Ab Inbevbased on 20 salaries   \n",
       "1                        ZSbased on 12 salaries   \n",
       "2                     Optumbased on 23 salaries   \n",
       "3         Fractal Analyticsbased on 66 salaries   \n",
       "4              UnitedHealthbased on 47 salaries   \n",
       "5           Tiger Analyticsbased on 26 salaries   \n",
       "6                   Verizonbased on 14 salaries   \n",
       "7  Ganit Business Solutionsbased on 13 salaries   \n",
       "8                  Ericssonbased on 42 salaries   \n",
       "9                  Deloittebased on 49 salaries   \n",
       "\n",
       "                            Total_salary_record Average_salary Minimum_salary  \\\n",
       "0                  Ab Inbevbased on 20 salaries        ₹ 19.0L        ₹ 15.0L   \n",
       "1                        ZSbased on 12 salaries        ₹ 15.3L        ₹ 23.0L   \n",
       "2                     Optumbased on 23 salaries        ₹ 15.0L         ₹ 9.8L   \n",
       "3         Fractal Analyticsbased on 66 salaries        ₹ 15.0L        ₹ 19.5L   \n",
       "4              UnitedHealthbased on 47 salaries        ₹ 13.5L        ₹ 11.0L   \n",
       "5           Tiger Analyticsbased on 26 salaries        ₹ 13.5L        ₹ 21.3L   \n",
       "6                   Verizonbased on 14 salaries        ₹ 12.7L         ₹ 9.5L   \n",
       "7  Ganit Business Solutionsbased on 13 salaries        ₹ 12.4L        ₹ 22.0L   \n",
       "8                  Ericssonbased on 42 salaries        ₹ 11.7L         ₹ 7.2L   \n",
       "9                  Deloittebased on 49 salaries        ₹ 11.2L        ₹ 20.5L   \n",
       "\n",
       "  Maximum_salary           Experience_Required  \n",
       "0        ₹ 15.0L  Data Scientist . 3-4 yrs exp  \n",
       "1        ₹ 23.0L    Data Scientist . 2 yrs exp  \n",
       "2         ₹ 9.8L  Data Scientist . 3-4 yrs exp  \n",
       "3        ₹ 19.5L  Data Scientist . 2-4 yrs exp  \n",
       "4        ₹ 11.0L  Data Scientist . 2-4 yrs exp  \n",
       "5        ₹ 21.3L  Data Scientist . 3-4 yrs exp  \n",
       "6         ₹ 9.5L    Data Scientist . 4 yrs exp  \n",
       "7        ₹ 22.0L    Data Scientist . 4 yrs exp  \n",
       "8         ₹ 7.2L  Data Scientist . 3-4 yrs exp  \n",
       "9        ₹ 20.5L  Data Scientist . 2-4 yrs exp  "
      ]
     },
     "execution_count": 113,
     "metadata": {},
     "output_type": "execute_result"
    }
   ],
   "source": [
    "df = pd.DataFrame({'Company_Name': c_na , 'Total_salary_record' : total_s , 'Average_salary' : Aver, 'Minimum_salary' : min_s[0:10], 'Maximum_salary' : max_s[0:10] , 'Experience_Required' : exp_r })\n",
    "df"
   ]
  },
  {
   "cell_type": "code",
   "execution_count": null,
   "id": "27af4e1d",
   "metadata": {},
   "outputs": [],
   "source": []
  },
  {
   "cell_type": "code",
   "execution_count": null,
   "id": "a27bfa02",
   "metadata": {},
   "outputs": [],
   "source": []
  }
 ],
 "metadata": {
  "kernelspec": {
   "display_name": "Python 3",
   "language": "python",
   "name": "python3"
  },
  "language_info": {
   "codemirror_mode": {
    "name": "ipython",
    "version": 3
   },
   "file_extension": ".py",
   "mimetype": "text/x-python",
   "name": "python",
   "nbconvert_exporter": "python",
   "pygments_lexer": "ipython3",
   "version": "3.8.8"
  }
 },
 "nbformat": 4,
 "nbformat_minor": 5
}
